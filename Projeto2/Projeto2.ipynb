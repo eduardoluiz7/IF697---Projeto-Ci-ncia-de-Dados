{
 "cells": [
  {
   "cell_type": "markdown",
   "id": "651aab05",
   "metadata": {},
   "source": [
    "## Projeto 2"
   ]
  },
  {
   "cell_type": "markdown",
   "id": "bcc58602",
   "metadata": {},
   "source": [
    "Para esse projeto, com o intuito de ter mais dados para o treinamento dos modelos, foi necessário adicionar bases dos anos de 2017 à 2019 ao conjunto do ano de 2020 que foi utilizado no projeto 1. Dessa forma, o notebook inicia carregando a base com os dados dos 4 anos agrupados e processados pelo código do projeto 1"
   ]
  },
  {
   "cell_type": "code",
   "execution_count": 73,
   "id": "3f431323",
   "metadata": {},
   "outputs": [],
   "source": [
    "import pandas as pd\n",
    "import numpy as np\n",
    "from sklearn.model_selection import train_test_split\n",
    "import seaborn as sns\n",
    "import matplotlib.pyplot as plt"
   ]
  },
  {
   "cell_type": "code",
   "execution_count": 74,
   "id": "fd15358a",
   "metadata": {},
   "outputs": [],
   "source": [
    "main_df = pd.read_csv('acidentes_group.csv', index_col=0)"
   ]
  },
  {
   "cell_type": "markdown",
   "id": "245f501e",
   "metadata": {},
   "source": [
    "Ao comparar a distruibuição dos valores nas colunas 'tipo' e 'natureza_acidente' percebe-se que a base está bastante desbalanceada, além disso a coluna tipo possui 8 valores possíveis e está mais desbalanceada do que 'natureza_acidente' que possui apensa 3 possíveis valores. Dessa forma, escolhi 'natureza_acidente' como a coluna a ser predita."
   ]
  },
  {
   "cell_type": "code",
   "execution_count": 75,
   "id": "736e4060",
   "metadata": {},
   "outputs": [
    {
     "data": {
      "text/plain": [
       "COLISÃO              27473\n",
       "ABALROAMENTO          8224\n",
       "CHOQUE                1485\n",
       "ATROPELAMENTO          918\n",
       "ENGAVETAMENTO          397\n",
       "ACID. DE PERCURSO      149\n",
       "TOMBAMENTO              98\n",
       "CAPOTAMENTO             82\n",
       "Name: tipo, dtype: int64"
      ]
     },
     "execution_count": 75,
     "metadata": {},
     "output_type": "execute_result"
    }
   ],
   "source": [
    "main_df['tipo'].value_counts()"
   ]
  },
  {
   "cell_type": "code",
   "execution_count": 76,
   "id": "f94082fd",
   "metadata": {},
   "outputs": [
    {
     "data": {
      "text/plain": [
       "SEM VÍTIMA      30552\n",
       "COM VÍTIMA       8167\n",
       "VÍTIMA FATAL      107\n",
       "Name: natureza_acidente, dtype: int64"
      ]
     },
     "execution_count": 76,
     "metadata": {},
     "output_type": "execute_result"
    }
   ],
   "source": [
    "main_df['natureza_acidente'].value_counts()"
   ]
  },
  {
   "cell_type": "markdown",
   "id": "8ca92208",
   "metadata": {},
   "source": [
    "#### Usando OneHot Encoding para converter os dados categóricos"
   ]
  },
  {
   "cell_type": "code",
   "execution_count": 77,
   "id": "53d3dd93",
   "metadata": {},
   "outputs": [],
   "source": [
    "main_df['bairro'] = main_df['bairro'].astype('category')\n",
    "main_df['bairro'] = main_df['bairro'].cat.codes\n",
    "main_df['tipo'] = main_df['tipo'].astype('category')\n",
    "main_df['tipo'] = main_df['tipo'].cat.codes\n",
    "main_df['natureza_acidente'] = main_df['natureza_acidente'].astype('category')"
   ]
  },
  {
   "cell_type": "code",
   "execution_count": 78,
   "id": "fb23e8bd",
   "metadata": {},
   "outputs": [],
   "source": [
    "dfDummies = pd.get_dummies(main_df['bairro'], prefix = 'bairro')\n",
    "main_df = pd.concat([main_df, dfDummies], axis=1)\n",
    "dfDummies2 = pd.get_dummies(main_df['tipo'], prefix = 'tipo')\n",
    "main_df = pd.concat([main_df, dfDummies2], axis=1)"
   ]
  },
  {
   "cell_type": "code",
   "execution_count": 79,
   "id": "d4610ada",
   "metadata": {},
   "outputs": [
    {
     "data": {
      "text/plain": [
       "natureza_acidente    0\n",
       "bairro               0\n",
       "tipo                 0\n",
       "auto                 0\n",
       "moto                 0\n",
       "                    ..\n",
       "tipo_3               0\n",
       "tipo_4               0\n",
       "tipo_5               0\n",
       "tipo_6               0\n",
       "tipo_7               0\n",
       "Length: 116, dtype: int64"
      ]
     },
     "execution_count": 79,
     "metadata": {},
     "output_type": "execute_result"
    }
   ],
   "source": [
    "main_df.isna().sum()"
   ]
  },
  {
   "cell_type": "code",
   "execution_count": 80,
   "id": "3ed8ee5d",
   "metadata": {},
   "outputs": [],
   "source": [
    "# Embaralhando linhas do dataset\n",
    "main_df = main_df.sample(frac=1)"
   ]
  },
  {
   "cell_type": "markdown",
   "id": "f834624e",
   "metadata": {},
   "source": [
    "## Dividindo dataset em treino, teste e validação"
   ]
  },
  {
   "cell_type": "code",
   "execution_count": 81,
   "id": "c64a123e",
   "metadata": {},
   "outputs": [],
   "source": [
    "X_acidentes = main_df.drop('natureza_acidente', axis=1)\n",
    "y_acidentes = main_df['natureza_acidente']\n",
    "\n",
    "Xtrain, Xtest, ytrain, ytest = train_test_split(X_acidentes, y_acidentes, test_size=0.2, random_state=1)\n",
    "\n",
    "X_train, X_val, y_train, y_val = train_test_split(Xtrain, ytrain, test_size=0.25, random_state=1) # 0.25 x 0.8 = 0.2"
   ]
  },
  {
   "cell_type": "markdown",
   "id": "a99d47f0",
   "metadata": {},
   "source": [
    "## Predições\n",
    "   Nas predições os modelos que utilizei foram: KNN, Árvore de Decisão, Random Forest e Gradient Boosting. \n",
    "   \n",
    "   - Na seleção de hyperparamêtros para o KNN segui o exemplo usado em aula (iteração em uma lista de valores para k usando cross validation para encontrar o melhor valor do número de vizinhos). \n",
    "   - Nos demais modelos, utilizei RandomizedSearch com cross validation, o desejo era utilizar GridSearch para ter mais chances de encontrar um melhor global mas, por questões de limitação de hardware e tempo, não foi possível uma vez que o método é mais custoso. Para tentar diminuir um pouco a probabilidade de encontrar apenas um melhores locais, executei o RandomizedSearch uma vez para cada parâmetro"
   ]
  },
  {
   "cell_type": "markdown",
   "id": "fd502932",
   "metadata": {},
   "source": [
    "## KNN"
   ]
  },
  {
   "cell_type": "code",
   "execution_count": 82,
   "id": "67be5b0a",
   "metadata": {},
   "outputs": [],
   "source": [
    "from sklearn.neighbors import KNeighborsClassifier\n",
    "from sklearn.model_selection import cross_val_score\n",
    "from sklearn.metrics import accuracy_score, f1_score, recall_score\n",
    "from sklearn import metrics"
   ]
  },
  {
   "cell_type": "markdown",
   "id": "66f1bdea",
   "metadata": {},
   "source": [
    "### Selecionando hyperparâmetro para o número de vizinhos sobre o conjunto de validação"
   ]
  },
  {
   "cell_type": "code",
   "execution_count": 83,
   "id": "05cf6059",
   "metadata": {},
   "outputs": [
    {
     "name": "stdout",
     "output_type": "stream",
     "text": [
      "[0.8185447520927237, 0.7960077269800385, 0.8332260141661301, 0.8336123631680618, 0.83322601416613, 0.8352865421764328, 0.8306503541532517, 0.8368319381841598, 0.8291049581455248, 0.8342562781712815, 0.8291049581455248, 0.8325820991629105, 0.8278171281390856, 0.8282034771410174, 0.8244687701223438, 0.8269156471345782, 0.8238248551191243, 0.8275595621377978, 0.8252414681262075, 0.8260141661300707, 0.8226658081133291, 0.8224082421120412, 0.8177720540888602, 0.8198325820991629]\n"
     ]
    }
   ],
   "source": [
    "k_range = range(1, 25)\n",
    "\n",
    "k_scores = []\n",
    "\n",
    "for k in k_range:\n",
    "    knn = KNeighborsClassifier(n_neighbors=k)\n",
    "    scores = cross_val_score(knn, X_val, y_val, cv=5, scoring='accuracy')\n",
    "    k_scores.append(scores.mean())\n",
    "print(k_scores)"
   ]
  },
  {
   "cell_type": "code",
   "execution_count": 84,
   "id": "86fbc540",
   "metadata": {},
   "outputs": [
    {
     "data": {
      "text/plain": [
       "Text(0, 0.5, 'Cross-Validated Accuracy')"
      ]
     },
     "execution_count": 84,
     "metadata": {},
     "output_type": "execute_result"
    },
    {
     "data": {
      "image/png": "[encoded data removed]",
      "text/plain": [
       "<Figure size 432x288 with 1 Axes>"
      ]
     },
     "metadata": {
      "needs_background": "light"
     },
     "output_type": "display_data"
    }
   ],
   "source": [
    "plt.plot(k_range, k_scores)\n",
    "plt.xlabel('Value of K for KNN')\n",
    "plt.ylabel('Cross-Validated Accuracy')"
   ]
  },
  {
   "cell_type": "markdown",
   "id": "cd0d4dc2",
   "metadata": {},
   "source": [
    "### Treinando o modelo com o valor encontrado para K e realizando predição"
   ]
  },
  {
   "cell_type": "code",
   "execution_count": 85,
   "id": "17781729",
   "metadata": {},
   "outputs": [],
   "source": [
    "model = KNeighborsClassifier(n_neighbors=8)"
   ]
  },
  {
   "cell_type": "code",
   "execution_count": 86,
   "id": "7feb39f7",
   "metadata": {},
   "outputs": [
    {
     "name": "stdout",
     "output_type": "stream",
     "text": [
      "ACC TRAINING:0.8647456535737282\n",
      "ACC TEST:0.8523049188771569\n",
      "-------------------------------------------------------\n",
      "              precision    recall  f1-score   support\n",
      "\n",
      "  COM VÍTIMA      0.635     0.707     0.669      1629\n",
      "  SEM VÍTIMA      0.919     0.894     0.906      6114\n",
      "VÍTIMA FATAL      0.000     0.000     0.000        23\n",
      "\n",
      "    accuracy                          0.852      7766\n",
      "   macro avg      0.518     0.534     0.525      7766\n",
      "weighted avg      0.856     0.852     0.854      7766\n",
      "\n"
     ]
    }
   ],
   "source": [
    "#desempenho no treinamento e teste\n",
    "y_pred_train = model.fit(Xtrain, ytrain).predict(Xtrain)\n",
    "y_pred = model.fit(Xtrain, ytrain).predict(Xtest)\n",
    "\n",
    "print(\"ACC TRAINING:\" + str(accuracy_score(ytrain, y_pred_train)))\n",
    "print(\"ACC TEST:\" + str(accuracy_score(ytest, y_pred)))\n",
    "print(\"-------------------------------------------------------\")\n",
    "print(metrics.classification_report(ytest, y_pred, digits=3, zero_division=0))"
   ]
  },
  {
   "cell_type": "code",
   "execution_count": 87,
   "id": "1095a802",
   "metadata": {},
   "outputs": [
    {
     "data": {
      "image/png": "[encoded data removed]",
      "text/plain": [
       "<Figure size 432x288 with 1 Axes>"
      ]
     },
     "metadata": {
      "needs_background": "light"
     },
     "output_type": "display_data"
    }
   ],
   "source": [
    "from sklearn.metrics import confusion_matrix\n",
    "mat = confusion_matrix(ytest, y_pred)\n",
    "sns.heatmap(mat.T, square=True, annot=True, fmt='d', cbar=False)\n",
    "plt.xlabel('true label')\n",
    "plt.ylabel('predicted label');"
   ]
  },
  {
   "cell_type": "markdown",
   "id": "6a94ccab",
   "metadata": {},
   "source": [
    "## Decision Tree"
   ]
  },
  {
   "cell_type": "code",
   "execution_count": 88,
   "id": "761b43d6",
   "metadata": {},
   "outputs": [],
   "source": [
    "from sklearn.tree import DecisionTreeClassifier\n",
    "from sklearn.model_selection import RandomizedSearchCV"
   ]
  },
  {
   "cell_type": "markdown",
   "id": "4e40889b",
   "metadata": {},
   "source": [
    "### Selecionando hyperparâmetros sobre o conjunto de validação com RandomizedSearch"
   ]
  },
  {
   "cell_type": "code",
   "execution_count": 89,
   "id": "2beaea8e",
   "metadata": {},
   "outputs": [
    {
     "name": "stdout",
     "output_type": "stream",
     "text": [
      "Melhor criterion: gini\n",
      "Desempenho do melhor modelo: 0.855\n"
     ]
    }
   ],
   "source": [
    "random_search_cv = RandomizedSearchCV(estimator = DecisionTreeClassifier(),\n",
    "                              param_distributions = {'criterion':['gini', 'entropy']},cv = 5, n_iter=2)\n",
    "\n",
    "random_search_cv.fit(X_val,y_val)\n",
    "\n",
    "best_criterion = random_search_cv.best_params_['criterion']\n",
    "#Vamos ver informações relevantes:\n",
    "print('Melhor criterion: {}'.format(best_criterion))\n",
    "print('Desempenho do melhor modelo: {}'.format(round(random_search_cv.best_score_,3)))"
   ]
  },
  {
   "cell_type": "code",
   "execution_count": 90,
   "id": "401e3896",
   "metadata": {},
   "outputs": [
    {
     "name": "stdout",
     "output_type": "stream",
     "text": [
      "Melhor splitter: best\n",
      "Desempenho do melhor modelo: 0.856\n"
     ]
    }
   ],
   "source": [
    "random_search_cv = RandomizedSearchCV(estimator = DecisionTreeClassifier(criterion=random_search_cv.best_params_['criterion']),\n",
    "                              param_distributions = {'splitter':['best', 'random']},cv = 5, n_iter=2)\n",
    "\n",
    "random_search_cv.fit(X_val,y_val)\n",
    "\n",
    "best_splitter = random_search_cv.best_params_['splitter']\n",
    "#Vamos ver informações relevantes:\n",
    "print('Melhor splitter: {}'.format(best_splitter))\n",
    "print('Desempenho do melhor modelo: {}'.format(round(random_search_cv.best_score_,3)))"
   ]
  },
  {
   "cell_type": "code",
   "execution_count": 91,
   "id": "9f0021dd",
   "metadata": {},
   "outputs": [
    {
     "name": "stdout",
     "output_type": "stream",
     "text": [
      "Melhor max_depth: 5\n",
      "Desempenho do melhor modelo: 0.861\n"
     ]
    }
   ],
   "source": [
    "random_search_cv = RandomizedSearchCV(estimator = DecisionTreeClassifier(criterion= best_criterion, \n",
    "                                                                         splitter=best_splitter),\n",
    "                              param_distributions = {'max_depth': [5, 8, 15, 25, 30]},cv = 5, n_iter=5)\n",
    "\n",
    "random_search_cv.fit(X_val,y_val)\n",
    "\n",
    "tree_max_depth = random_search_cv.best_params_['max_depth']\n",
    "#Vamos ver informações relevantes:\n",
    "print('Melhor max_depth: {}'.format(tree_max_depth))\n",
    "print('Desempenho do melhor modelo: {}'.format(round(random_search_cv.best_score_,3)))"
   ]
  },
  {
   "cell_type": "markdown",
   "id": "e69311ac",
   "metadata": {},
   "source": [
    "### Treinando o modelo com os valores encontrados para os hyperparâmetros e realizando predição"
   ]
  },
  {
   "cell_type": "code",
   "execution_count": 92,
   "id": "d00f36ad",
   "metadata": {},
   "outputs": [],
   "source": [
    "clf_tree = DecisionTreeClassifier(criterion=best_criterion, splitter=best_splitter, max_depth=tree_max_depth)"
   ]
  },
  {
   "cell_type": "code",
   "execution_count": 93,
   "id": "a14e6be8",
   "metadata": {},
   "outputs": [
    {
     "data": {
      "text/plain": [
       "DecisionTreeClassifier(max_depth=5)"
      ]
     },
     "execution_count": 93,
     "metadata": {},
     "output_type": "execute_result"
    }
   ],
   "source": [
    "clf_tree.fit(Xtrain, ytrain)"
   ]
  },
  {
   "cell_type": "code",
   "execution_count": 94,
   "id": "5adfaadb",
   "metadata": {},
   "outputs": [],
   "source": [
    "tree_pred = clf_tree.predict(Xtest)\n",
    "tree_pred_train = clf_tree.predict(Xtrain)"
   ]
  },
  {
   "cell_type": "code",
   "execution_count": 95,
   "id": "7662dc1d",
   "metadata": {},
   "outputs": [
    {
     "name": "stdout",
     "output_type": "stream",
     "text": [
      "ACC TRAINING:0.8646168705730843\n",
      "ACC TEST:0.8678856554210662\n",
      "-------------------------------------------------------\n",
      "              precision    recall  f1-score   support\n",
      "\n",
      "  COM VÍTIMA      0.637     0.863     0.733      1629\n",
      "  SEM VÍTIMA      0.960     0.872     0.914      6114\n",
      "VÍTIMA FATAL      0.000     0.000     0.000        23\n",
      "\n",
      "    accuracy                          0.868      7766\n",
      "   macro avg      0.532     0.579     0.549      7766\n",
      "weighted avg      0.889     0.868     0.873      7766\n",
      "\n"
     ]
    }
   ],
   "source": [
    "print(\"ACC TRAINING:\" + str(accuracy_score(ytrain, tree_pred_train)))\n",
    "print(\"ACC TEST:\" + str(accuracy_score(ytest, tree_pred)))\n",
    "print(\"-------------------------------------------------------\")\n",
    "print(metrics.classification_report(ytest, tree_pred, digits=3, zero_division=0))"
   ]
  },
  {
   "cell_type": "code",
   "execution_count": 96,
   "id": "6e3b3d87",
   "metadata": {},
   "outputs": [
    {
     "data": {
      "image/png": "[encoded data removed]",
      "text/plain": [
       "<Figure size 432x288 with 1 Axes>"
      ]
     },
     "metadata": {
      "needs_background": "light"
     },
     "output_type": "display_data"
    }
   ],
   "source": [
    "mat = confusion_matrix(ytest, tree_pred)\n",
    "sns.heatmap(mat.T, square=True, annot=True, fmt='d', cbar=False)\n",
    "plt.xlabel('true label')\n",
    "plt.ylabel('predicted label');"
   ]
  },
  {
   "cell_type": "markdown",
   "id": "7fddf60f",
   "metadata": {},
   "source": [
    "## Random Forest"
   ]
  },
  {
   "cell_type": "code",
   "execution_count": 97,
   "id": "2a2317b7",
   "metadata": {},
   "outputs": [],
   "source": [
    "from sklearn.ensemble import RandomForestClassifier"
   ]
  },
  {
   "cell_type": "markdown",
   "id": "bfdf09ad",
   "metadata": {},
   "source": [
    "#### Selecionando hyperparâmetros sobre o conjunto de validação com RandomizedSearch"
   ]
  },
  {
   "cell_type": "code",
   "execution_count": 98,
   "id": "2ac56662",
   "metadata": {},
   "outputs": [
    {
     "name": "stdout",
     "output_type": "stream",
     "text": [
      "Melhor número de estimadores: 201\n",
      "Desempenho do melhor modelo: 0.859\n"
     ]
    }
   ],
   "source": [
    "random_search_cv = RandomizedSearchCV(estimator = RandomForestClassifier(),\n",
    "                              param_distributions = {'n_estimators':range(1,1000,100)},cv = 5,n_iter = 10)\n",
    "\n",
    "random_search_cv.fit(X_val,y_val)\n",
    "\n",
    "rf_estimators = random_search_cv.best_params_['n_estimators']\n",
    "\n",
    "#Vamos ver informações relevantes:\n",
    "print('Melhor número de estimadores: {}'.format(rf_estimators))\n",
    "print('Desempenho do melhor modelo: {}'.format(round(random_search_cv.best_score_,3)))"
   ]
  },
  {
   "cell_type": "code",
   "execution_count": 99,
   "id": "23a4051a",
   "metadata": {},
   "outputs": [
    {
     "name": "stdout",
     "output_type": "stream",
     "text": [
      "Melhor max_depth: 25\n",
      "Desempenho do melhor modelo: 0.863\n"
     ]
    }
   ],
   "source": [
    "random_search_cv = RandomizedSearchCV(estimator = RandomForestClassifier(n_estimators = rf_estimators),\n",
    "                              param_distributions = {'max_depth': [5, 8, 15, 25, 30]},cv = 5, n_iter = 5)\n",
    "\n",
    "random_search_cv.fit(X_val,y_val)\n",
    "\n",
    "rf_max_depth = random_search_cv.best_params_['max_depth']\n",
    "\n",
    "#Vamos ver informações relevantes:\n",
    "print('Melhor max_depth: {}'.format(rf_max_depth))\n",
    "print('Desempenho do melhor modelo: {}'.format(round(random_search_cv.best_score_,3)))"
   ]
  },
  {
   "cell_type": "markdown",
   "id": "f96b9df2",
   "metadata": {},
   "source": [
    "#### Treinando o modelo com os valores encontrados para os hyperparâmetros e realizando predição"
   ]
  },
  {
   "cell_type": "code",
   "execution_count": 100,
   "id": "3ac0ea2e",
   "metadata": {},
   "outputs": [],
   "source": [
    "model = RandomForestClassifier(n_estimators=rf_estimators, max_depth=rf_max_depth)\n",
    "model.fit(Xtrain, ytrain)\n",
    "ypred = model.predict(Xtest)\n",
    "ypred_train = model.predict(Xtrain)"
   ]
  },
  {
   "cell_type": "code",
   "execution_count": 101,
   "id": "5069ea00",
   "metadata": {},
   "outputs": [
    {
     "name": "stdout",
     "output_type": "stream",
     "text": [
      "ACC TRAINING:0.8810045074050226\n",
      "ACC TEST:0.8684007210919392\n",
      "-------------------------------------------------------\n",
      "              precision    recall  f1-score   support\n",
      "\n",
      "  COM VÍTIMA      0.655     0.792     0.717      1629\n",
      "  SEM VÍTIMA      0.941     0.892     0.916      6114\n",
      "VÍTIMA FATAL      0.000     0.000     0.000        23\n",
      "\n",
      "    accuracy                          0.868      7766\n",
      "   macro avg      0.532     0.561     0.544      7766\n",
      "weighted avg      0.878     0.868     0.872      7766\n",
      "\n"
     ]
    }
   ],
   "source": [
    "print(\"ACC TRAINING:\" + str(accuracy_score(ytrain, ypred_train)))\n",
    "print(\"ACC TEST:\" + str(accuracy_score(ytest, ypred)))\n",
    "print(\"-------------------------------------------------------\")\n",
    "print(metrics.classification_report(ytest, ypred, digits=3, zero_division=0))"
   ]
  },
  {
   "cell_type": "code",
   "execution_count": 102,
   "id": "aa00967d",
   "metadata": {},
   "outputs": [
    {
     "data": {
      "image/png": "[encoded data removed]",
      "text/plain": [
       "<Figure size 432x288 with 1 Axes>"
      ]
     },
     "metadata": {
      "needs_background": "light"
     },
     "output_type": "display_data"
    }
   ],
   "source": [
    "from sklearn.metrics import confusion_matrix\n",
    "mat = confusion_matrix(ytest, ypred)\n",
    "sns.heatmap(mat.T, square=True, annot=True, fmt='d', cbar=False)\n",
    "plt.xlabel('true label')\n",
    "plt.ylabel('predicted label');"
   ]
  },
  {
   "cell_type": "markdown",
   "id": "69661c66",
   "metadata": {},
   "source": [
    "## Gradient Boosting"
   ]
  },
  {
   "cell_type": "code",
   "execution_count": 103,
   "id": "5185b91a",
   "metadata": {},
   "outputs": [],
   "source": [
    "from sklearn.ensemble import GradientBoostingClassifier"
   ]
  },
  {
   "cell_type": "markdown",
   "id": "a32f8da7",
   "metadata": {},
   "source": [
    "#### Selecionando hyperparâmetros sobre o conjunto de validação com RandomizedSearch"
   ]
  },
  {
   "cell_type": "code",
   "execution_count": 104,
   "id": "fd9ee548",
   "metadata": {},
   "outputs": [
    {
     "name": "stdout",
     "output_type": "stream",
     "text": [
      "Melhor número de estimadores: 15\n",
      "Desempenho do melhor modelo: 0.858\n"
     ]
    }
   ],
   "source": [
    "from sklearn.model_selection import RandomizedSearchCV\n",
    "\n",
    "random_search_cv = RandomizedSearchCV(estimator = GradientBoostingClassifier(),\n",
    "                              param_distributions = {'n_estimators':range(10,100,5)},cv = 3,n_iter = 10)\n",
    "\n",
    "random_search_cv.fit(X_val,y_val)\n",
    "\n",
    "gb_estimators = random_search_cv.best_params_['n_estimators']\n",
    "\n",
    "#Vamos ver informações relevantes:\n",
    "print('Melhor número de estimadores: {}'.format(gb_estimators))\n",
    "print('Desempenho do melhor modelo: {}'.format(round(random_search_cv.best_score_,3)))"
   ]
  },
  {
   "cell_type": "code",
   "execution_count": 105,
   "id": "a0344dd7",
   "metadata": {},
   "outputs": [
    {
     "name": "stdout",
     "output_type": "stream",
     "text": [
      "Max depth: 5\n",
      "Desempenho do melhor modelo: 0.858\n"
     ]
    }
   ],
   "source": [
    "random_search_cv = RandomizedSearchCV(estimator = GradientBoostingClassifier(n_estimators=gb_estimators),\n",
    "                            param_distributions = {'max_depth':range(5,16,2)},\n",
    "                            cv = 3,n_iter = 6)\n",
    "\n",
    "random_search_cv.fit(X_val,y_val)\n",
    "\n",
    "gb_max_depth = random_search_cv.best_params_['max_depth']\n",
    "#Vamos ver informações relevantes:\n",
    "print('Max depth: {}'.format(gb_max_depth))\n",
    "print('Desempenho do melhor modelo: {}'.format(round(random_search_cv.best_score_,3)))"
   ]
  },
  {
   "cell_type": "markdown",
   "id": "6352f186",
   "metadata": {},
   "source": [
    "#### Treinando o modelo com os valores encontrados para os hyperparâmetros e realizando predição"
   ]
  },
  {
   "cell_type": "code",
   "execution_count": 106,
   "id": "58deaaa3",
   "metadata": {},
   "outputs": [
    {
     "data": {
      "text/plain": [
       "GradientBoostingClassifier(max_depth=5, n_estimators=15)"
      ]
     },
     "execution_count": 106,
     "metadata": {},
     "output_type": "execute_result"
    }
   ],
   "source": [
    "modelGB = GradientBoostingClassifier(n_estimators=gb_estimators, max_depth=gb_max_depth)\n",
    "modelGB.fit(Xtrain, ytrain)"
   ]
  },
  {
   "cell_type": "code",
   "execution_count": 107,
   "id": "5e906ddb",
   "metadata": {},
   "outputs": [
    {
     "name": "stdout",
     "output_type": "stream",
     "text": [
      "ACC TRAINING:0.868190598840953\n",
      "ACC TEST:0.8685294875096575\n",
      "-------------------------------------------------------\n",
      "              precision    recall  f1-score   support\n",
      "\n",
      "  COM VÍTIMA      0.657     0.785     0.715      1629\n",
      "  SEM VÍTIMA      0.941     0.894     0.917      6114\n",
      "VÍTIMA FATAL      0.000     0.000     0.000        23\n",
      "\n",
      "    accuracy                          0.869      7766\n",
      "   macro avg      0.533     0.560     0.544      7766\n",
      "weighted avg      0.879     0.869     0.872      7766\n",
      "\n"
     ]
    }
   ],
   "source": [
    "ypred = modelGB.predict(Xtest)\n",
    "ypred_train = modelGB.predict(Xtrain)\n",
    "\n",
    "print(\"ACC TRAINING:\" + str(accuracy_score(ytrain, ypred_train)))\n",
    "print(\"ACC TEST:\" + str(accuracy_score(ytest, ypred)))\n",
    "print(\"-------------------------------------------------------\")\n",
    "print(metrics.classification_report(ytest, ypred, digits=3, zero_division=0))"
   ]
  },
  {
   "cell_type": "code",
   "execution_count": 108,
   "id": "993463e3",
   "metadata": {},
   "outputs": [
    {
     "data": {
      "image/png": "[encoded data removed]",
      "text/plain": [
       "<Figure size 432x288 with 1 Axes>"
      ]
     },
     "metadata": {
      "needs_background": "light"
     },
     "output_type": "display_data"
    }
   ],
   "source": [
    "from sklearn.metrics import confusion_matrix\n",
    "mat = confusion_matrix(ytest, ypred)\n",
    "sns.heatmap(mat.T, square=True, annot=True, fmt='d', cbar=False)\n",
    "plt.xlabel('true label')\n",
    "plt.ylabel('predicted label');"
   ]
  },
  {
   "cell_type": "markdown",
   "id": "65487e04",
   "metadata": {},
   "source": [
    "## Escolha do modelo mais eficiente"
   ]
  },
  {
   "cell_type": "markdown",
   "id": "d1f82e50",
   "metadata": {},
   "source": [
    "Observando as métricas resultantes de cada modelo, pode-se observar que o desempenho de todos foi bem parecido. Apesar disso, o modelo de **Árvore de Decisão** se mostrou minimamente mais eficiente se observado o f1_score e a acurária, além disso, o modelo se mostrou o de execução mais rápida."
   ]
  },
  {
   "cell_type": "markdown",
   "id": "efb18ef1",
   "metadata": {},
   "source": [
    "Uma característica comum aos modelos é de que, em todos, se pode observar pela matriz de confusão que os modelos tem dificuldade para classificar entradas da classe 2 (Vitima fatal) por conta do número muito pequeno de entradas da mesma."
   ]
  },
  {
   "cell_type": "markdown",
   "id": "5643789f",
   "metadata": {},
   "source": [
    "Para tentar contornar esse problema de balanceamento, utilizei da técnica **SMOTE**, onde são gerados novos dados para as classes minoritárias a partir dos dados já existentes dessas classes."
   ]
  },
  {
   "cell_type": "code",
   "execution_count": 109,
   "id": "cf2b1407",
   "metadata": {},
   "outputs": [],
   "source": [
    "from imblearn.over_sampling import SMOTE"
   ]
  },
  {
   "cell_type": "code",
   "execution_count": 110,
   "id": "4e353e2c",
   "metadata": {},
   "outputs": [],
   "source": [
    "smote = SMOTE(random_state = 32)\n",
    "X_smote_res, y_smote_res = smote.fit_resample(Xtrain, ytrain)"
   ]
  },
  {
   "cell_type": "code",
   "execution_count": 111,
   "id": "9c0a711d",
   "metadata": {},
   "outputs": [
    {
     "data": {
      "text/plain": [
       "COM VÍTIMA      24438\n",
       "SEM VÍTIMA      24438\n",
       "VÍTIMA FATAL    24438\n",
       "Name: natureza_acidente, dtype: int64"
      ]
     },
     "execution_count": 111,
     "metadata": {},
     "output_type": "execute_result"
    }
   ],
   "source": [
    "y_smote_res.value_counts()"
   ]
  },
  {
   "cell_type": "code",
   "execution_count": 112,
   "id": "0cf32cec",
   "metadata": {},
   "outputs": [
    {
     "data": {
      "text/plain": [
       "DecisionTreeClassifier(max_depth=5)"
      ]
     },
     "execution_count": 112,
     "metadata": {},
     "output_type": "execute_result"
    }
   ],
   "source": [
    "clf_tree = DecisionTreeClassifier(criterion=best_criterion, splitter=best_splitter, max_depth=tree_max_depth)\n",
    "clf_tree.fit(X_smote_res, y_smote_res)"
   ]
  },
  {
   "cell_type": "code",
   "execution_count": 113,
   "id": "44aa59e4",
   "metadata": {},
   "outputs": [],
   "source": [
    "tree_pred = clf_tree.predict(Xtest)\n",
    "tree_pred_train = clf_tree.predict(Xtrain)"
   ]
  },
  {
   "cell_type": "code",
   "execution_count": 114,
   "id": "f3c1e969",
   "metadata": {},
   "outputs": [
    {
     "name": "stdout",
     "output_type": "stream",
     "text": [
      "ACC TRAINING:0.8373148744365744\n",
      "ACC TEST:0.8385269121813032\n",
      "-------------------------------------------------------\n",
      "              precision    recall  f1-score   support\n",
      "\n",
      "  COM VÍTIMA      0.624     0.774     0.691      1629\n",
      "  SEM VÍTIMA      0.963     0.857     0.907      6114\n",
      "VÍTIMA FATAL      0.030     0.391     0.055        23\n",
      "\n",
      "    accuracy                          0.839      7766\n",
      "   macro avg      0.539     0.674     0.551      7766\n",
      "weighted avg      0.889     0.839     0.859      7766\n",
      "\n"
     ]
    }
   ],
   "source": [
    "print(\"ACC TRAINING:\" + str(accuracy_score(ytrain, tree_pred_train)))\n",
    "print(\"ACC TEST:\" + str(accuracy_score(ytest, tree_pred)))\n",
    "print(\"-------------------------------------------------------\")\n",
    "print(metrics.classification_report(ytest, tree_pred, digits=3, zero_division=0))"
   ]
  },
  {
   "cell_type": "code",
   "execution_count": 115,
   "id": "d5c9e02b",
   "metadata": {},
   "outputs": [
    {
     "data": {
      "image/png": "[encoded data removed]",
      "text/plain": [
       "<Figure size 432x288 with 1 Axes>"
      ]
     },
     "metadata": {
      "needs_background": "light"
     },
     "output_type": "display_data"
    }
   ],
   "source": [
    "mat = confusion_matrix(ytest, tree_pred)\n",
    "sns.heatmap(mat.T, square=True, annot=True, fmt='d', cbar=False)\n",
    "plt.xlabel('true label')\n",
    "plt.ylabel('predicted label');"
   ]
  },
  {
   "cell_type": "markdown",
   "id": "4bf70a4d",
   "metadata": {},
   "source": [
    "### Considerações"
   ]
  },
  {
   "cell_type": "markdown",
   "id": "7f972cc3",
   "metadata": {},
   "source": [
    "Como se pode observar pelos resultados do modelo utilizando a base balanceada pelo **SMOTE**, apesar de ter uma ligeira queda na acurácia, agora o modelo é capaz de identificar elementos da classe 'VÍTIMA FATAL'. \n",
    "- Um balanceamento um pouco mais refinado seria capaz de melhorar ainda mais esses resultados\n",
    "- Poderia ser analisada a otimização de outros parâmentros para o melhor modelo e a possibilidade de teste com outros algoritmos não abordados no projeto.\n",
    "- **MLflow**: Ao tentar utilizá-lo tive muitos problemas de execução e o computador travou várias vezes, então acabei deixando de lado, mas seria uma boa ferramenta para ajudar a encontrar novas formas de melhorar o modelo além do balanceamento."
   ]
  },
  {
   "cell_type": "code",
   "execution_count": null,
   "id": "40687762",
   "metadata": {},
   "outputs": [],
   "source": []
  }
 ],
 "metadata": {
  "kernelspec": {
   "display_name": "Python 3",
   "language": "python",
   "name": "python3"
  },
  "language_info": {
   "codemirror_mode": {
    "name": "ipython",
    "version": 3
   },
   "file_extension": ".py",
   "mimetype": "text/x-python",
   "name": "python",
   "nbconvert_exporter": "python",
   "pygments_lexer": "ipython3",
   "version": "3.8.8"
  }
 },
 "nbformat": 4,
 "nbformat_minor": 5
}
