{
 "cells": [
  {
   "cell_type": "markdown",
   "id": "651aab05",
   "metadata": {},
   "source": [
    "## Projeto 2: Classificando tipos acidentes"
   ]
  },
  {
   "cell_type": "markdown",
   "id": "bcc58602",
   "metadata": {},
   "source": [
    "Para esse projeto, com o intuito de ter mais dados para o treinamento dos modelos, foi necessário adicionar bases dos anos de 2017 à 2019 ao conjunto do ano de 2020 que foi utilizado no projeto 1. Dessa forma, o notebook inicia carregando a base com os dados dos 4 anos agrupados e, em seguida, alguns ajustes são feitos para enfim se iniciar a implementação dos modelos"
   ]
  },
  {
   "cell_type": "code",
   "execution_count": 1,
   "id": "3f431323",
   "metadata": {},
   "outputs": [],
   "source": [
    "import pandas as pd\n",
    "import numpy as np\n",
    "from sklearn.model_selection import train_test_split\n",
    "import seaborn as sns\n",
    "import optuna"
   ]
  },
  {
   "cell_type": "code",
   "execution_count": 2,
   "id": "fd15358a",
   "metadata": {},
   "outputs": [],
   "source": [
    "main_df = pd.read_csv('acidentes_group.csv', index_col=0)"
   ]
  },
  {
   "cell_type": "code",
   "execution_count": 3,
   "id": "736e4060",
   "metadata": {},
   "outputs": [
    {
     "data": {
      "text/plain": [
       "COLISÃO              27473\n",
       "ABALROAMENTO          8224\n",
       "CHOQUE                1485\n",
       "ATROPELAMENTO          918\n",
       "ENGAVETAMENTO          397\n",
       "ACID. DE PERCURSO      149\n",
       "TOMBAMENTO              98\n",
       "CAPOTAMENTO             82\n",
       "Name: tipo, dtype: int64"
      ]
     },
     "execution_count": 3,
     "metadata": {},
     "output_type": "execute_result"
    }
   ],
   "source": [
    "# número de ocorrência das classes\n",
    "main_df['tipo'].value_counts()"
   ]
  },
  {
   "cell_type": "markdown",
   "id": "6501f161",
   "metadata": {},
   "source": [
    "### Ajustes na discrepancia de ocorrência das classes"
   ]
  },
  {
   "cell_type": "code",
   "execution_count": 4,
   "id": "f016461d",
   "metadata": {},
   "outputs": [
    {
     "data": {
      "text/plain": [
       "(20472, 15)"
      ]
     },
     "execution_count": 4,
     "metadata": {},
     "output_type": "execute_result"
    }
   ],
   "source": [
    "df_colisao = main_df[main_df['tipo'] == 'COLISÃO']\n",
    "df_colisao = df_colisao.reset_index(drop=True)\n",
    "df_colisao.drop(df_colisao.loc[:7000].index, inplace=True)\n",
    "df_colisao.shape"
   ]
  },
  {
   "cell_type": "code",
   "execution_count": 5,
   "id": "034729b1",
   "metadata": {},
   "outputs": [
    {
     "data": {
      "text/html": [
       "<div>\n",
       "<style scoped>\n",
       "    .dataframe tbody tr th:only-of-type {\n",
       "        vertical-align: middle;\n",
       "    }\n",
       "\n",
       "    .dataframe tbody tr th {\n",
       "        vertical-align: top;\n",
       "    }\n",
       "\n",
       "    .dataframe thead th {\n",
       "        text-align: right;\n",
       "    }\n",
       "</style>\n",
       "<table border=\"1\" class=\"dataframe\">\n",
       "  <thead>\n",
       "    <tr style=\"text-align: right;\">\n",
       "      <th></th>\n",
       "      <th>data</th>\n",
       "      <th>natureza_acidente</th>\n",
       "      <th>bairro</th>\n",
       "      <th>tipo</th>\n",
       "      <th>auto</th>\n",
       "      <th>moto</th>\n",
       "      <th>ciclom</th>\n",
       "      <th>ciclista</th>\n",
       "      <th>pedestre</th>\n",
       "      <th>onibus</th>\n",
       "      <th>caminhao</th>\n",
       "      <th>viatura</th>\n",
       "      <th>outros</th>\n",
       "      <th>vitimas</th>\n",
       "      <th>vitimasfatais</th>\n",
       "    </tr>\n",
       "  </thead>\n",
       "  <tbody>\n",
       "    <tr>\n",
       "      <th>1</th>\n",
       "      <td>2020-01-01</td>\n",
       "      <td>SEM VÍTIMA</td>\n",
       "      <td>CORDEIRO</td>\n",
       "      <td>ABALROAMENTO</td>\n",
       "      <td>2.0</td>\n",
       "      <td>0.0</td>\n",
       "      <td>0.0</td>\n",
       "      <td>0.0</td>\n",
       "      <td>0.0</td>\n",
       "      <td>0.0</td>\n",
       "      <td>0.0</td>\n",
       "      <td>0.0</td>\n",
       "      <td>0.0</td>\n",
       "      <td>0.0</td>\n",
       "      <td>0</td>\n",
       "    </tr>\n",
       "    <tr>\n",
       "      <th>2</th>\n",
       "      <td>2020-01-01</td>\n",
       "      <td>SEM VÍTIMA</td>\n",
       "      <td>AREIAS</td>\n",
       "      <td>CHOQUE</td>\n",
       "      <td>2.0</td>\n",
       "      <td>0.0</td>\n",
       "      <td>0.0</td>\n",
       "      <td>0.0</td>\n",
       "      <td>0.0</td>\n",
       "      <td>0.0</td>\n",
       "      <td>0.0</td>\n",
       "      <td>0.0</td>\n",
       "      <td>0.0</td>\n",
       "      <td>0.0</td>\n",
       "      <td>0</td>\n",
       "    </tr>\n",
       "  </tbody>\n",
       "</table>\n",
       "</div>"
      ],
      "text/plain": [
       "         data natureza_acidente    bairro          tipo  auto  moto  ciclom  \\\n",
       "1  2020-01-01        SEM VÍTIMA  CORDEIRO  ABALROAMENTO   2.0   0.0     0.0   \n",
       "2  2020-01-01        SEM VÍTIMA    AREIAS        CHOQUE   2.0   0.0     0.0   \n",
       "\n",
       "   ciclista  pedestre  onibus  caminhao  viatura  outros  vitimas  \\\n",
       "1       0.0       0.0     0.0       0.0      0.0     0.0      0.0   \n",
       "2       0.0       0.0     0.0       0.0      0.0     0.0      0.0   \n",
       "\n",
       "   vitimasfatais  \n",
       "1              0  \n",
       "2              0  "
      ]
     },
     "execution_count": 5,
     "metadata": {},
     "output_type": "execute_result"
    }
   ],
   "source": [
    "main_df = main_df[main_df['tipo'] != 'COLISÃO']\n",
    "main_df.reset_index(drop=True)\n",
    "main_df.head(2)"
   ]
  },
  {
   "cell_type": "code",
   "execution_count": 6,
   "id": "fcfca83e",
   "metadata": {},
   "outputs": [
    {
     "data": {
      "text/plain": [
       "(31825, 15)"
      ]
     },
     "execution_count": 6,
     "metadata": {},
     "output_type": "execute_result"
    }
   ],
   "source": [
    "main_df = pd.concat([main_df, df_colisao], ignore_index=True)\n",
    "main_df.shape"
   ]
  },
  {
   "cell_type": "code",
   "execution_count": 7,
   "id": "8ebc90cd",
   "metadata": {},
   "outputs": [
    {
     "data": {
      "text/plain": [
       "COLISÃO              20472\n",
       "ABALROAMENTO          8224\n",
       "CHOQUE                1485\n",
       "ATROPELAMENTO          918\n",
       "ENGAVETAMENTO          397\n",
       "ACID. DE PERCURSO      149\n",
       "TOMBAMENTO              98\n",
       "CAPOTAMENTO             82\n",
       "Name: tipo, dtype: int64"
      ]
     },
     "execution_count": 7,
     "metadata": {},
     "output_type": "execute_result"
    }
   ],
   "source": [
    "main_df['tipo'].value_counts()"
   ]
  },
  {
   "cell_type": "code",
   "execution_count": 8,
   "id": "ce3026f9",
   "metadata": {},
   "outputs": [],
   "source": [
    "def renameTypes(x):\n",
    "    if x in ['ENGAVETAMENTO', 'ACID. DE PERCURSO', 'TOMBAMENTO', 'CAPOTAMENTO', 'ATROPELAMENTO']:\n",
    "        return 'OUTROS'\n",
    "    else:\n",
    "        return x"
   ]
  },
  {
   "cell_type": "code",
   "execution_count": 9,
   "id": "517693e4",
   "metadata": {},
   "outputs": [
    {
     "data": {
      "text/plain": [
       "COLISÃO         20472\n",
       "ABALROAMENTO     8224\n",
       "OUTROS           1644\n",
       "CHOQUE           1485\n",
       "Name: tipo, dtype: int64"
      ]
     },
     "execution_count": 9,
     "metadata": {},
     "output_type": "execute_result"
    }
   ],
   "source": [
    "main_df['tipo'] = main_df['tipo'].apply(renameTypes)\n",
    "main_df['tipo'].value_counts()"
   ]
  },
  {
   "cell_type": "code",
   "execution_count": 10,
   "id": "53d3dd93",
   "metadata": {},
   "outputs": [
    {
     "data": {
      "text/html": [
       "<div>\n",
       "<style scoped>\n",
       "    .dataframe tbody tr th:only-of-type {\n",
       "        vertical-align: middle;\n",
       "    }\n",
       "\n",
       "    .dataframe tbody tr th {\n",
       "        vertical-align: top;\n",
       "    }\n",
       "\n",
       "    .dataframe thead th {\n",
       "        text-align: right;\n",
       "    }\n",
       "</style>\n",
       "<table border=\"1\" class=\"dataframe\">\n",
       "  <thead>\n",
       "    <tr style=\"text-align: right;\">\n",
       "      <th></th>\n",
       "      <th>data</th>\n",
       "      <th>natureza_acidente</th>\n",
       "      <th>bairro</th>\n",
       "      <th>tipo</th>\n",
       "      <th>auto</th>\n",
       "      <th>moto</th>\n",
       "      <th>ciclom</th>\n",
       "      <th>ciclista</th>\n",
       "      <th>pedestre</th>\n",
       "      <th>onibus</th>\n",
       "      <th>caminhao</th>\n",
       "      <th>viatura</th>\n",
       "      <th>outros</th>\n",
       "      <th>vitimas</th>\n",
       "      <th>vitimasfatais</th>\n",
       "    </tr>\n",
       "  </thead>\n",
       "  <tbody>\n",
       "    <tr>\n",
       "      <th>0</th>\n",
       "      <td>2020-01-01</td>\n",
       "      <td>1</td>\n",
       "      <td>32</td>\n",
       "      <td>ABALROAMENTO</td>\n",
       "      <td>2.0</td>\n",
       "      <td>0.0</td>\n",
       "      <td>0.0</td>\n",
       "      <td>0.0</td>\n",
       "      <td>0.0</td>\n",
       "      <td>0.0</td>\n",
       "      <td>0.0</td>\n",
       "      <td>0.0</td>\n",
       "      <td>0.0</td>\n",
       "      <td>0.0</td>\n",
       "      <td>0</td>\n",
       "    </tr>\n",
       "    <tr>\n",
       "      <th>1</th>\n",
       "      <td>2020-01-01</td>\n",
       "      <td>1</td>\n",
       "      <td>7</td>\n",
       "      <td>CHOQUE</td>\n",
       "      <td>2.0</td>\n",
       "      <td>0.0</td>\n",
       "      <td>0.0</td>\n",
       "      <td>0.0</td>\n",
       "      <td>0.0</td>\n",
       "      <td>0.0</td>\n",
       "      <td>0.0</td>\n",
       "      <td>0.0</td>\n",
       "      <td>0.0</td>\n",
       "      <td>0.0</td>\n",
       "      <td>0</td>\n",
       "    </tr>\n",
       "    <tr>\n",
       "      <th>2</th>\n",
       "      <td>2020-01-01</td>\n",
       "      <td>1</td>\n",
       "      <td>69</td>\n",
       "      <td>ABALROAMENTO</td>\n",
       "      <td>2.0</td>\n",
       "      <td>0.0</td>\n",
       "      <td>0.0</td>\n",
       "      <td>0.0</td>\n",
       "      <td>0.0</td>\n",
       "      <td>0.0</td>\n",
       "      <td>0.0</td>\n",
       "      <td>0.0</td>\n",
       "      <td>0.0</td>\n",
       "      <td>0.0</td>\n",
       "      <td>0</td>\n",
       "    </tr>\n",
       "    <tr>\n",
       "      <th>3</th>\n",
       "      <td>2020-01-01</td>\n",
       "      <td>1</td>\n",
       "      <td>72</td>\n",
       "      <td>CHOQUE</td>\n",
       "      <td>1.0</td>\n",
       "      <td>0.0</td>\n",
       "      <td>0.0</td>\n",
       "      <td>0.0</td>\n",
       "      <td>0.0</td>\n",
       "      <td>0.0</td>\n",
       "      <td>0.0</td>\n",
       "      <td>0.0</td>\n",
       "      <td>0.0</td>\n",
       "      <td>0.0</td>\n",
       "      <td>0</td>\n",
       "    </tr>\n",
       "    <tr>\n",
       "      <th>4</th>\n",
       "      <td>2020-01-01</td>\n",
       "      <td>0</td>\n",
       "      <td>72</td>\n",
       "      <td>CHOQUE</td>\n",
       "      <td>0.0</td>\n",
       "      <td>1.0</td>\n",
       "      <td>0.0</td>\n",
       "      <td>0.0</td>\n",
       "      <td>0.0</td>\n",
       "      <td>0.0</td>\n",
       "      <td>0.0</td>\n",
       "      <td>0.0</td>\n",
       "      <td>0.0</td>\n",
       "      <td>2.0</td>\n",
       "      <td>0</td>\n",
       "    </tr>\n",
       "  </tbody>\n",
       "</table>\n",
       "</div>"
      ],
      "text/plain": [
       "         data  natureza_acidente  bairro          tipo  auto  moto  ciclom  \\\n",
       "0  2020-01-01                  1      32  ABALROAMENTO   2.0   0.0     0.0   \n",
       "1  2020-01-01                  1       7        CHOQUE   2.0   0.0     0.0   \n",
       "2  2020-01-01                  1      69  ABALROAMENTO   2.0   0.0     0.0   \n",
       "3  2020-01-01                  1      72        CHOQUE   1.0   0.0     0.0   \n",
       "4  2020-01-01                  0      72        CHOQUE   0.0   1.0     0.0   \n",
       "\n",
       "   ciclista  pedestre  onibus  caminhao  viatura  outros  vitimas  \\\n",
       "0       0.0       0.0     0.0       0.0      0.0     0.0      0.0   \n",
       "1       0.0       0.0     0.0       0.0      0.0     0.0      0.0   \n",
       "2       0.0       0.0     0.0       0.0      0.0     0.0      0.0   \n",
       "3       0.0       0.0     0.0       0.0      0.0     0.0      0.0   \n",
       "4       0.0       0.0     0.0       0.0      0.0     0.0      2.0   \n",
       "\n",
       "   vitimasfatais  \n",
       "0              0  \n",
       "1              0  \n",
       "2              0  \n",
       "3              0  \n",
       "4              0  "
      ]
     },
     "execution_count": 10,
     "metadata": {},
     "output_type": "execute_result"
    }
   ],
   "source": [
    "main_df['bairro'] = main_df['bairro'].astype('category')\n",
    "main_df['bairro'] = main_df['bairro'].cat.codes\n",
    "main_df['natureza_acidente'] = main_df['natureza_acidente'].astype('category')\n",
    "main_df['natureza_acidente'] = main_df['natureza_acidente'].cat.codes\n",
    "main_df['tipo'] = main_df['tipo'].astype('category')\n",
    "# main_df['data'] = pd.to_numeric((pd.to_datetime(main_df['data'], format='%Y-%m-%d')))\n",
    "main_df.head()"
   ]
  },
  {
   "cell_type": "code",
   "execution_count": 11,
   "id": "fb23e8bd",
   "metadata": {},
   "outputs": [],
   "source": [
    "dfDummies = pd.get_dummies(main_df['bairro'], prefix = 'bairro')\n",
    "main_df = pd.concat([main_df, dfDummies], axis=1)\n",
    "dfDummies2 = pd.get_dummies(main_df['natureza_acidente'], prefix = 'natureza')\n",
    "main_df = pd.concat([main_df, dfDummies], axis=1)"
   ]
  },
  {
   "cell_type": "code",
   "execution_count": 12,
   "id": "3cffb5eb",
   "metadata": {},
   "outputs": [],
   "source": [
    "main_df = main_df.drop('data', axis=1)"
   ]
  },
  {
   "cell_type": "code",
   "execution_count": 13,
   "id": "d4610ada",
   "metadata": {},
   "outputs": [
    {
     "data": {
      "text/plain": [
       "natureza_acidente    0\n",
       "bairro               0\n",
       "tipo                 0\n",
       "auto                 0\n",
       "moto                 0\n",
       "                    ..\n",
       "bairro_91            0\n",
       "bairro_92            0\n",
       "bairro_93            0\n",
       "bairro_94            0\n",
       "bairro_95            0\n",
       "Length: 206, dtype: int64"
      ]
     },
     "execution_count": 13,
     "metadata": {},
     "output_type": "execute_result"
    }
   ],
   "source": [
    "main_df.isna().sum()"
   ]
  },
  {
   "cell_type": "code",
   "execution_count": 14,
   "id": "3ed8ee5d",
   "metadata": {},
   "outputs": [],
   "source": [
    "main_df = main_df.sample(frac=1)"
   ]
  },
  {
   "cell_type": "code",
   "execution_count": 15,
   "id": "c64a123e",
   "metadata": {},
   "outputs": [],
   "source": [
    "X_acidentes = main_df.drop('tipo', axis=1)\n",
    "y_acidentes = main_df['tipo']\n",
    "\n",
    "Xtrain, Xtest, ytrain, ytest = train_test_split(X_acidentes, y_acidentes, test_size=0.2, random_state=1)\n",
    "\n",
    "X_train, X_val, y_train, y_val = train_test_split(Xtrain, ytrain, test_size=0.25, random_state=1) # 0.25 x 0.8 = 0.2"
   ]
  },
  {
   "cell_type": "markdown",
   "id": "a99d47f0",
   "metadata": {},
   "source": [
    "## Predições"
   ]
  },
  {
   "cell_type": "markdown",
   "id": "fd502932",
   "metadata": {},
   "source": [
    "#### KNN"
   ]
  },
  {
   "cell_type": "code",
   "execution_count": 337,
   "id": "67be5b0a",
   "metadata": {},
   "outputs": [],
   "source": [
    "from sklearn.neighbors import KNeighborsClassifier\n",
    "model = KNeighborsClassifier(n_neighbors=22)"
   ]
  },
  {
   "cell_type": "code",
   "execution_count": 338,
   "id": "7feb39f7",
   "metadata": {},
   "outputs": [
    {
     "data": {
      "text/plain": [
       "(0.6522388059701493, 0.6460329929300864)"
      ]
     },
     "execution_count": 338,
     "metadata": {},
     "output_type": "execute_result"
    }
   ],
   "source": [
    "#desempenho no treinamento e teste\n",
    "y1_model = model.fit(Xtrain, ytrain).predict(Xtrain)\n",
    "y2_model = model.fit(Xtrain, ytrain).predict(Xtest)\n",
    "accuracy_score(ytrain, y1_model), accuracy_score(ytest, y2_model)"
   ]
  },
  {
   "cell_type": "code",
   "execution_count": 339,
   "id": "1095a802",
   "metadata": {},
   "outputs": [
    {
     "data": {
      "image/png": "[encoded data removed]",
      "text/plain": [
       "<Figure size 432x288 with 1 Axes>"
      ]
     },
     "metadata": {
      "needs_background": "light"
     },
     "output_type": "display_data"
    }
   ],
   "source": [
    "from sklearn.metrics import confusion_matrix\n",
    "mat = confusion_matrix(ytest, y2_model)\n",
    "sns.heatmap(mat.T, square=True, annot=True, fmt='d', cbar=False)\n",
    "plt.xlabel('true label')\n",
    "plt.ylabel('predicted label');"
   ]
  },
  {
   "cell_type": "code",
   "execution_count": null,
   "id": "08890661",
   "metadata": {},
   "outputs": [],
   "source": []
  },
  {
   "cell_type": "code",
   "execution_count": null,
   "id": "761b43d6",
   "metadata": {},
   "outputs": [],
   "source": []
  },
  {
   "cell_type": "markdown",
   "id": "7fddf60f",
   "metadata": {},
   "source": [
    "## Random Forest"
   ]
  },
  {
   "cell_type": "code",
   "execution_count": 388,
   "id": "2a2317b7",
   "metadata": {},
   "outputs": [],
   "source": [
    "from sklearn.ensemble import RandomForestClassifier\n",
    "from sklearn.model_selection import RandomizedSearchCV"
   ]
  },
  {
   "cell_type": "markdown",
   "id": "bfdf09ad",
   "metadata": {},
   "source": [
    "### Selecionando hyperparâmetros sobre o conjunto de validação"
   ]
  },
  {
   "cell_type": "code",
   "execution_count": 390,
   "id": "2ac56662",
   "metadata": {},
   "outputs": [
    {
     "name": "stdout",
     "output_type": "stream",
     "text": [
      "Melhor número de estimadores: 1810\n",
      "Desempenho do melhor modelo: 0.651\n"
     ]
    }
   ],
   "source": [
    "random_search_cv = RandomizedSearchCV(estimator = RandomForestClassifier(),\n",
    "                              param_distributions = {'n_estimators':range(10,2000,200)},cv = 3,n_iter = 10)\n",
    "\n",
    "random_search_cv.fit(X_val,y_val)\n",
    "\n",
    "#Vamos ver informações relevantes:\n",
    "print('Melhor número de estimadores: {}'.format(random_search_cv.best_params_['n_estimators']))\n",
    "print('Desempenho do melhor modelo: {}'.format(round(random_search_cv.best_score_,3)))"
   ]
  },
  {
   "cell_type": "code",
   "execution_count": null,
   "id": "23a4051a",
   "metadata": {},
   "outputs": [],
   "source": [
    "random_search_cv = RandomizedSearchCV(estimator = GradientBoostingClassifier(n_estimators = 1810),\n",
    "                              param_distributions = {'max_depth': [5, 8, 15, 25, 30]},cv = 3)\n",
    "\n",
    "random_search_cv.fit(X_val,y_val)\n",
    "\n",
    "#Vamos ver informações relevantes:\n",
    "print('Melhor max_depth: {}'.format(random_search_cv.best_params_['max_depth']))\n",
    "print('Desempenho do melhor modelo: {}'.format(round(random_search_cv.best_score_,3)))"
   ]
  },
  {
   "cell_type": "code",
   "execution_count": null,
   "id": "8df44ab9",
   "metadata": {},
   "outputs": [],
   "source": []
  },
  {
   "cell_type": "code",
   "execution_count": 341,
   "id": "3ac0ea2e",
   "metadata": {},
   "outputs": [],
   "source": [
    "model = RandomForestClassifier(n_estimators=1810)\n",
    "model.fit(Xtrain, ytrain)\n",
    "ypred = model.predict(Xtest)\n",
    "ypred_train = model.predict(Xtrain)"
   ]
  },
  {
   "cell_type": "code",
   "execution_count": 342,
   "id": "5069ea00",
   "metadata": {},
   "outputs": [
    {
     "name": "stdout",
     "output_type": "stream",
     "text": [
      "ACC TRAINING:0.7226630007855459\n",
      "ACC TEST:0.6860958366064415\n"
     ]
    }
   ],
   "source": [
    "print(\"ACC TRAINING:\" + str(accuracy_score(ytrain, ypred_train)))\n",
    "print(\"ACC TEST:\" + str(accuracy_score(ytest, ypred)))"
   ]
  },
  {
   "cell_type": "code",
   "execution_count": 343,
   "id": "aa00967d",
   "metadata": {},
   "outputs": [
    {
     "data": {
      "image/png": "[encoded data removed]",
      "text/plain": [
       "<Figure size 432x288 with 1 Axes>"
      ]
     },
     "metadata": {
      "needs_background": "light"
     },
     "output_type": "display_data"
    }
   ],
   "source": [
    "from sklearn.metrics import confusion_matrix\n",
    "mat = confusion_matrix(ytest, ypred)\n",
    "sns.heatmap(mat.T, square=True, annot=True, fmt='d', cbar=False)\n",
    "plt.xlabel('true label')\n",
    "plt.ylabel('predicted label');"
   ]
  },
  {
   "cell_type": "markdown",
   "id": "69661c66",
   "metadata": {},
   "source": [
    "## Gradient Boosting"
   ]
  },
  {
   "cell_type": "code",
   "execution_count": 17,
   "id": "5185b91a",
   "metadata": {},
   "outputs": [],
   "source": [
    "from sklearn.ensemble import GradientBoostingClassifier"
   ]
  },
  {
   "cell_type": "markdown",
   "id": "a32f8da7",
   "metadata": {},
   "source": [
    "### Selecionando hyperparâmetros sobre o conjunto de validação"
   ]
  },
  {
   "cell_type": "code",
   "execution_count": null,
   "id": "fd9ee548",
   "metadata": {},
   "outputs": [],
   "source": [
    "from sklearn.model_selection import RandomizedSearchCV\n",
    "\n",
    "random_search_cv = RandomizedSearchCV(estimator = GradientBoostingClassifier(random_state = 10),\n",
    "                              param_distributions = {'n_estimators':range(10,100,5)},cv = 3,n_iter = 10)\n",
    "\n",
    "random_search_cv.fit(X_val,y_val)\n",
    "\n",
    "#Vamos ver informações relevantes:\n",
    "print('Melhor número de estimadores: {}'.format(random_search_cv.best_params_['n_estimators']))\n",
    "print('Desempenho do melhor modelo: {}'.format(round(random_search_cv.best_score_,3)))"
   ]
  },
  {
   "cell_type": "code",
   "execution_count": 384,
   "id": "a0344dd7",
   "metadata": {},
   "outputs": [
    {
     "name": "stdout",
     "output_type": "stream",
     "text": [
      "Max depth: 11\n",
      "min_samples_split: 200\n",
      "Desempenho do melhor modelo: 0.668\n"
     ]
    }
   ],
   "source": [
    "random_search_cv = RandomizedSearchCV(estimator = GradientBoostingClassifier(random_state = 0, n_estimators=15),\n",
    "                            param_distributions = {'max_depth':range(5,16,2), 'min_samples_split':range(200,1001,200)},\n",
    "                            cv = 3,n_iter = 10)\n",
    "\n",
    "random_search_cv.fit(X_val,y_val)\n",
    "\n",
    "#Vamos ver informações relevantes:\n",
    "print('Max depth: {}'.format(random_search_cv.best_params_['max_depth']))\n",
    "print('min_samples_split: {}'.format(random_search_cv.best_params_['min_samples_split']))\n",
    "print('Desempenho do melhor modelo: {}'.format(round(random_search_cv.best_score_,3)))"
   ]
  },
  {
   "cell_type": "code",
   "execution_count": 19,
   "id": "58deaaa3",
   "metadata": {},
   "outputs": [
    {
     "data": {
      "text/plain": [
       "GradientBoostingClassifier(max_depth=11, min_samples_split=200, n_estimators=15,\n",
       "                           random_state=0)"
      ]
     },
     "execution_count": 19,
     "metadata": {},
     "output_type": "execute_result"
    }
   ],
   "source": [
    "modelGB = GradientBoostingClassifier(n_estimators=15, max_depth=11, random_state=0,min_samples_split=200 )\n",
    "modelGB.fit(Xtrain, ytrain)"
   ]
  },
  {
   "cell_type": "code",
   "execution_count": 20,
   "id": "5e906ddb",
   "metadata": {},
   "outputs": [
    {
     "name": "stdout",
     "output_type": "stream",
     "text": [
      "ACC TRAINING:0.7001178318931658\n",
      "ACC TEST:0.6917517674783975\n"
     ]
    }
   ],
   "source": [
    "ypred = modelGB.predict(Xtest)\n",
    "ypred_train = modelGB.predict(Xtrain)\n",
    "print(\"ACC TRAINING:\" + str(accuracy_score(ytrain, ypred_train)))\n",
    "print(\"ACC TEST:\" + str(accuracy_score(ytest, ypred)))"
   ]
  },
  {
   "cell_type": "code",
   "execution_count": null,
   "id": "9ed064a3",
   "metadata": {},
   "outputs": [],
   "source": []
  },
  {
   "cell_type": "code",
   "execution_count": 387,
   "id": "993463e3",
   "metadata": {},
   "outputs": [
    {
     "data": {
      "image/png": "[encoded data removed]",
      "text/plain": [
       "<Figure size 432x288 with 1 Axes>"
      ]
     },
     "metadata": {
      "needs_background": "light"
     },
     "output_type": "display_data"
    }
   ],
   "source": [
    "from sklearn.metrics import confusion_matrix\n",
    "mat = confusion_matrix(ytest, ypred)\n",
    "sns.heatmap(mat.T, square=True, annot=True, fmt='d', cbar=False)\n",
    "plt.xlabel('true label')\n",
    "plt.ylabel('predicted label');"
   ]
  },
  {
   "cell_type": "code",
   "execution_count": null,
   "id": "7f905348",
   "metadata": {},
   "outputs": [],
   "source": []
  },
  {
   "cell_type": "code",
   "execution_count": null,
   "id": "7fea456c",
   "metadata": {},
   "outputs": [],
   "source": []
  }
 ],
 "metadata": {
  "kernelspec": {
   "display_name": "Python 3",
   "language": "python",
   "name": "python3"
  },
  "language_info": {
   "codemirror_mode": {
    "name": "ipython",
    "version": 3
   },
   "file_extension": ".py",
   "mimetype": "text/x-python",
   "name": "python",
   "nbconvert_exporter": "python",
   "pygments_lexer": "ipython3",
   "version": "3.8.8"
  }
 },
 "nbformat": 4,
 "nbformat_minor": 5
}
