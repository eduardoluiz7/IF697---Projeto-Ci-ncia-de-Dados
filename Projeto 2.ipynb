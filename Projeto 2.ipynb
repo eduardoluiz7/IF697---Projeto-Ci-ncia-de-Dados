{
 "cells": [
  {
   "cell_type": "markdown",
   "id": "651aab05",
   "metadata": {},
   "source": [
    "## Projeto 2: Classificando tipos acidentes"
   ]
  },
  {
   "cell_type": "markdown",
   "id": "bcc58602",
   "metadata": {},
   "source": [
    "##### descrição"
   ]
  },
  {
   "cell_type": "code",
   "execution_count": 1,
   "id": "3f431323",
   "metadata": {},
   "outputs": [],
   "source": [
    "import pandas as pd\n",
    "import numpy as np\n",
    "from sklearn.model_selection import train_test_split\n",
    "import seaborn as sns\n",
    "import matplotlib.pyplot as plt"
   ]
  },
  {
   "cell_type": "code",
   "execution_count": 2,
   "id": "fd15358a",
   "metadata": {},
   "outputs": [],
   "source": [
    "main_df = pd.read_csv('acidentes_group.csv', index_col=0)"
   ]
  },
  {
   "cell_type": "code",
   "execution_count": 3,
   "id": "736e4060",
   "metadata": {},
   "outputs": [
    {
     "data": {
      "text/plain": [
       "COLISÃO              16699\n",
       "ABALROAMENTO          8224\n",
       "CHOQUE                1217\n",
       "ATROPELAMENTO          633\n",
       "ENGAVETAMENTO          227\n",
       "ACID. DE PERCURSO      104\n",
       "TOMBAMENTO              89\n",
       "CAPOTAMENTO             55\n",
       "Name: tipo, dtype: int64"
      ]
     },
     "execution_count": 3,
     "metadata": {},
     "output_type": "execute_result"
    }
   ],
   "source": [
    "# número de ocorrência das classes\n",
    "main_df['tipo'].value_counts()"
   ]
  },
  {
   "cell_type": "markdown",
   "id": "6501f161",
   "metadata": {},
   "source": [
    "### Ajustes na discrepancia de ocorrência das classes"
   ]
  },
  {
   "cell_type": "code",
   "execution_count": 88,
   "id": "f016461d",
   "metadata": {},
   "outputs": [
    {
     "data": {
      "text/plain": [
       "(15698, 16)"
      ]
     },
     "execution_count": 88,
     "metadata": {},
     "output_type": "execute_result"
    }
   ],
   "source": [
    "df_colisao = main_df[main_df['tipo'] == 'COLISÃO']\n",
    "df_colisao = df_colisao.reset_index(drop=True)\n",
    "df_colisao.drop(df_colisao.loc[:1000].index, inplace=True)\n",
    "df_colisao.shape"
   ]
  },
  {
   "cell_type": "code",
   "execution_count": 89,
   "id": "034729b1",
   "metadata": {},
   "outputs": [
    {
     "data": {
      "text/html": [
       "<div>\n",
       "<style scoped>\n",
       "    .dataframe tbody tr th:only-of-type {\n",
       "        vertical-align: middle;\n",
       "    }\n",
       "\n",
       "    .dataframe tbody tr th {\n",
       "        vertical-align: top;\n",
       "    }\n",
       "\n",
       "    .dataframe thead th {\n",
       "        text-align: right;\n",
       "    }\n",
       "</style>\n",
       "<table border=\"1\" class=\"dataframe\">\n",
       "  <thead>\n",
       "    <tr style=\"text-align: right;\">\n",
       "      <th></th>\n",
       "      <th>data</th>\n",
       "      <th>natureza_acidente</th>\n",
       "      <th>bairro</th>\n",
       "      <th>tipo</th>\n",
       "      <th>auto</th>\n",
       "      <th>moto</th>\n",
       "      <th>ciclom</th>\n",
       "      <th>ciclista</th>\n",
       "      <th>pedestre</th>\n",
       "      <th>onibus</th>\n",
       "      <th>caminhao</th>\n",
       "      <th>viatura</th>\n",
       "      <th>outros</th>\n",
       "      <th>vitimas</th>\n",
       "      <th>vitimasfatais</th>\n",
       "      <th>mao_direcao</th>\n",
       "    </tr>\n",
       "  </thead>\n",
       "  <tbody>\n",
       "    <tr>\n",
       "      <th>1</th>\n",
       "      <td>2020-01-01</td>\n",
       "      <td>SEM VÍTIMA</td>\n",
       "      <td>CORDEIRO</td>\n",
       "      <td>ABALROAMENTO</td>\n",
       "      <td>2.0</td>\n",
       "      <td>0.0</td>\n",
       "      <td>0.0</td>\n",
       "      <td>0.0</td>\n",
       "      <td>0.0</td>\n",
       "      <td>0.0</td>\n",
       "      <td>0.0</td>\n",
       "      <td>0.0</td>\n",
       "      <td>0.0</td>\n",
       "      <td>0.0</td>\n",
       "      <td>0</td>\n",
       "      <td>Dupla</td>\n",
       "    </tr>\n",
       "    <tr>\n",
       "      <th>2</th>\n",
       "      <td>2020-01-01</td>\n",
       "      <td>SEM VÍTIMA</td>\n",
       "      <td>AREIAS</td>\n",
       "      <td>CHOQUE</td>\n",
       "      <td>2.0</td>\n",
       "      <td>0.0</td>\n",
       "      <td>0.0</td>\n",
       "      <td>0.0</td>\n",
       "      <td>0.0</td>\n",
       "      <td>0.0</td>\n",
       "      <td>0.0</td>\n",
       "      <td>0.0</td>\n",
       "      <td>0.0</td>\n",
       "      <td>0.0</td>\n",
       "      <td>0</td>\n",
       "      <td>Dupla</td>\n",
       "    </tr>\n",
       "  </tbody>\n",
       "</table>\n",
       "</div>"
      ],
      "text/plain": [
       "         data natureza_acidente    bairro          tipo  auto  moto  ciclom  \\\n",
       "1  2020-01-01        SEM VÍTIMA  CORDEIRO  ABALROAMENTO   2.0   0.0     0.0   \n",
       "2  2020-01-01        SEM VÍTIMA    AREIAS        CHOQUE   2.0   0.0     0.0   \n",
       "\n",
       "   ciclista  pedestre  onibus  caminhao  viatura  outros  vitimas  \\\n",
       "1       0.0       0.0     0.0       0.0      0.0     0.0      0.0   \n",
       "2       0.0       0.0     0.0       0.0      0.0     0.0      0.0   \n",
       "\n",
       "   vitimasfatais mao_direcao  \n",
       "1              0       Dupla  \n",
       "2              0       Dupla  "
      ]
     },
     "execution_count": 89,
     "metadata": {},
     "output_type": "execute_result"
    }
   ],
   "source": [
    "main_df = main_df[main_df['tipo'] != 'COLISÃO']\n",
    "main_df.reset_index(drop=True)\n",
    "main_df.head(2)"
   ]
  },
  {
   "cell_type": "code",
   "execution_count": 90,
   "id": "fcfca83e",
   "metadata": {},
   "outputs": [
    {
     "data": {
      "text/plain": [
       "(26247, 16)"
      ]
     },
     "execution_count": 90,
     "metadata": {},
     "output_type": "execute_result"
    }
   ],
   "source": [
    "main_df = pd.concat([main_df, df_colisao], ignore_index=True)\n",
    "main_df.shape"
   ]
  },
  {
   "cell_type": "code",
   "execution_count": 4,
   "id": "8ebc90cd",
   "metadata": {},
   "outputs": [
    {
     "data": {
      "text/plain": [
       "COLISÃO              16699\n",
       "ABALROAMENTO          8224\n",
       "CHOQUE                1217\n",
       "ATROPELAMENTO          633\n",
       "ENGAVETAMENTO          227\n",
       "ACID. DE PERCURSO      104\n",
       "TOMBAMENTO              89\n",
       "CAPOTAMENTO             55\n",
       "Name: tipo, dtype: int64"
      ]
     },
     "execution_count": 4,
     "metadata": {},
     "output_type": "execute_result"
    }
   ],
   "source": [
    "main_df['tipo'].value_counts()"
   ]
  },
  {
   "cell_type": "code",
   "execution_count": 92,
   "id": "ce3026f9",
   "metadata": {},
   "outputs": [],
   "source": [
    "def renameTypes(x):\n",
    "    if x in ['ENGAVETAMENTO', 'ACID. DE PERCURSO', 'TOMBAMENTO', 'CAPOTAMENTO', 'ATROPELAMENTO']:\n",
    "        return 'OUTROS'\n",
    "    else:\n",
    "        return x"
   ]
  },
  {
   "cell_type": "code",
   "execution_count": 93,
   "id": "517693e4",
   "metadata": {},
   "outputs": [
    {
     "data": {
      "text/plain": [
       "COLISÃO         15698\n",
       "ABALROAMENTO     8224\n",
       "CHOQUE           1217\n",
       "OUTROS           1108\n",
       "Name: tipo, dtype: int64"
      ]
     },
     "execution_count": 93,
     "metadata": {},
     "output_type": "execute_result"
    }
   ],
   "source": [
    "main_df['tipo'] = main_df['tipo'].apply(renameTypes)\n",
    "main_df['tipo'].value_counts()"
   ]
  },
  {
   "cell_type": "code",
   "execution_count": 5,
   "id": "53d3dd93",
   "metadata": {},
   "outputs": [
    {
     "data": {
      "text/html": [
       "<div>\n",
       "<style scoped>\n",
       "    .dataframe tbody tr th:only-of-type {\n",
       "        vertical-align: middle;\n",
       "    }\n",
       "\n",
       "    .dataframe tbody tr th {\n",
       "        vertical-align: top;\n",
       "    }\n",
       "\n",
       "    .dataframe thead th {\n",
       "        text-align: right;\n",
       "    }\n",
       "</style>\n",
       "<table border=\"1\" class=\"dataframe\">\n",
       "  <thead>\n",
       "    <tr style=\"text-align: right;\">\n",
       "      <th></th>\n",
       "      <th>data</th>\n",
       "      <th>natureza_acidente</th>\n",
       "      <th>bairro</th>\n",
       "      <th>tipo</th>\n",
       "      <th>auto</th>\n",
       "      <th>moto</th>\n",
       "      <th>ciclom</th>\n",
       "      <th>ciclista</th>\n",
       "      <th>pedestre</th>\n",
       "      <th>onibus</th>\n",
       "      <th>caminhao</th>\n",
       "      <th>viatura</th>\n",
       "      <th>outros</th>\n",
       "      <th>vitimas</th>\n",
       "      <th>vitimasfatais</th>\n",
       "      <th>mao_direcao</th>\n",
       "    </tr>\n",
       "  </thead>\n",
       "  <tbody>\n",
       "    <tr>\n",
       "      <th>0</th>\n",
       "      <td>2020-01-01</td>\n",
       "      <td>1</td>\n",
       "      <td>94</td>\n",
       "      <td>COLISÃO</td>\n",
       "      <td>2.0</td>\n",
       "      <td>0.0</td>\n",
       "      <td>0.0</td>\n",
       "      <td>0.0</td>\n",
       "      <td>0.0</td>\n",
       "      <td>0.0</td>\n",
       "      <td>0.0</td>\n",
       "      <td>0.0</td>\n",
       "      <td>0.0</td>\n",
       "      <td>0.0</td>\n",
       "      <td>0</td>\n",
       "      <td>Única</td>\n",
       "    </tr>\n",
       "    <tr>\n",
       "      <th>1</th>\n",
       "      <td>2020-01-01</td>\n",
       "      <td>1</td>\n",
       "      <td>32</td>\n",
       "      <td>ABALROAMENTO</td>\n",
       "      <td>2.0</td>\n",
       "      <td>0.0</td>\n",
       "      <td>0.0</td>\n",
       "      <td>0.0</td>\n",
       "      <td>0.0</td>\n",
       "      <td>0.0</td>\n",
       "      <td>0.0</td>\n",
       "      <td>0.0</td>\n",
       "      <td>0.0</td>\n",
       "      <td>0.0</td>\n",
       "      <td>0</td>\n",
       "      <td>Dupla</td>\n",
       "    </tr>\n",
       "    <tr>\n",
       "      <th>2</th>\n",
       "      <td>2020-01-01</td>\n",
       "      <td>1</td>\n",
       "      <td>7</td>\n",
       "      <td>CHOQUE</td>\n",
       "      <td>2.0</td>\n",
       "      <td>0.0</td>\n",
       "      <td>0.0</td>\n",
       "      <td>0.0</td>\n",
       "      <td>0.0</td>\n",
       "      <td>0.0</td>\n",
       "      <td>0.0</td>\n",
       "      <td>0.0</td>\n",
       "      <td>0.0</td>\n",
       "      <td>0.0</td>\n",
       "      <td>0</td>\n",
       "      <td>Dupla</td>\n",
       "    </tr>\n",
       "    <tr>\n",
       "      <th>3</th>\n",
       "      <td>2020-01-01</td>\n",
       "      <td>1</td>\n",
       "      <td>12</td>\n",
       "      <td>COLISÃO</td>\n",
       "      <td>2.0</td>\n",
       "      <td>0.0</td>\n",
       "      <td>0.0</td>\n",
       "      <td>0.0</td>\n",
       "      <td>0.0</td>\n",
       "      <td>0.0</td>\n",
       "      <td>0.0</td>\n",
       "      <td>0.0</td>\n",
       "      <td>0.0</td>\n",
       "      <td>0.0</td>\n",
       "      <td>0</td>\n",
       "      <td>Única</td>\n",
       "    </tr>\n",
       "    <tr>\n",
       "      <th>4</th>\n",
       "      <td>2020-01-01</td>\n",
       "      <td>1</td>\n",
       "      <td>68</td>\n",
       "      <td>ABALROAMENTO</td>\n",
       "      <td>2.0</td>\n",
       "      <td>0.0</td>\n",
       "      <td>0.0</td>\n",
       "      <td>0.0</td>\n",
       "      <td>0.0</td>\n",
       "      <td>0.0</td>\n",
       "      <td>0.0</td>\n",
       "      <td>0.0</td>\n",
       "      <td>0.0</td>\n",
       "      <td>0.0</td>\n",
       "      <td>0</td>\n",
       "      <td>Única</td>\n",
       "    </tr>\n",
       "  </tbody>\n",
       "</table>\n",
       "</div>"
      ],
      "text/plain": [
       "         data  natureza_acidente  bairro          tipo  auto  moto  ciclom  \\\n",
       "0  2020-01-01                  1      94       COLISÃO   2.0   0.0     0.0   \n",
       "1  2020-01-01                  1      32  ABALROAMENTO   2.0   0.0     0.0   \n",
       "2  2020-01-01                  1       7        CHOQUE   2.0   0.0     0.0   \n",
       "3  2020-01-01                  1      12       COLISÃO   2.0   0.0     0.0   \n",
       "4  2020-01-01                  1      68  ABALROAMENTO   2.0   0.0     0.0   \n",
       "\n",
       "   ciclista  pedestre  onibus  caminhao  viatura  outros  vitimas  \\\n",
       "0       0.0       0.0     0.0       0.0      0.0     0.0      0.0   \n",
       "1       0.0       0.0     0.0       0.0      0.0     0.0      0.0   \n",
       "2       0.0       0.0     0.0       0.0      0.0     0.0      0.0   \n",
       "3       0.0       0.0     0.0       0.0      0.0     0.0      0.0   \n",
       "4       0.0       0.0     0.0       0.0      0.0     0.0      0.0   \n",
       "\n",
       "   vitimasfatais mao_direcao  \n",
       "0              0       Única  \n",
       "1              0       Dupla  \n",
       "2              0       Dupla  \n",
       "3              0       Única  \n",
       "4              0       Única  "
      ]
     },
     "execution_count": 5,
     "metadata": {},
     "output_type": "execute_result"
    }
   ],
   "source": [
    "main_df['bairro'] = main_df['bairro'].astype('category')\n",
    "main_df['bairro'] = main_df['bairro'].cat.codes\n",
    "#main_df['mao_direcao'] = main_df['mao_direcao'].astype('category')\n",
    "#main_df['mao_direcao'] = main_df['mao_direcao'].cat.codes\n",
    "main_df['natureza_acidente'] = main_df['natureza_acidente'].astype('category')\n",
    "main_df['natureza_acidente'] = main_df['natureza_acidente'].cat.codes\n",
    "main_df['tipo'] = main_df['tipo'].astype('category')\n",
    "# main_df['data'] = pd.to_numeric((pd.to_datetime(main_df['data'], format='%Y-%m-%d')))\n",
    "main_df.head()"
   ]
  },
  {
   "cell_type": "code",
   "execution_count": 6,
   "id": "fb23e8bd",
   "metadata": {},
   "outputs": [],
   "source": [
    "dfDummies = pd.get_dummies(main_df['bairro'], prefix = 'bairro')\n",
    "main_df = pd.concat([main_df, dfDummies], axis=1)\n",
    "dfDummies2 = pd.get_dummies(main_df['natureza_acidente'], prefix = 'natureza')\n",
    "main_df = pd.concat([main_df, dfDummies2], axis=1)\n",
    "#dfDummies3 = pd.get_dummies(main_df['mao_direcao'], prefix = 'mao')\n",
    "#main_df = pd.concat([main_df, dfDummies3], axis=1)"
   ]
  },
  {
   "cell_type": "code",
   "execution_count": 7,
   "id": "3cffb5eb",
   "metadata": {},
   "outputs": [],
   "source": [
    "main_df = main_df.drop(['data', 'mao_direcao'], axis=1)"
   ]
  },
  {
   "cell_type": "code",
   "execution_count": 8,
   "id": "d4610ada",
   "metadata": {},
   "outputs": [
    {
     "data": {
      "text/plain": [
       "natureza_acidente    0\n",
       "bairro               0\n",
       "tipo                 0\n",
       "auto                 0\n",
       "moto                 0\n",
       "                    ..\n",
       "bairro_93            0\n",
       "bairro_94            0\n",
       "natureza_0           0\n",
       "natureza_1           0\n",
       "natureza_2           0\n",
       "Length: 112, dtype: int64"
      ]
     },
     "execution_count": 8,
     "metadata": {},
     "output_type": "execute_result"
    }
   ],
   "source": [
    "main_df.isna().sum()"
   ]
  },
  {
   "cell_type": "code",
   "execution_count": 9,
   "id": "3ed8ee5d",
   "metadata": {},
   "outputs": [],
   "source": [
    "main_df = main_df.sample(frac=1)"
   ]
  },
  {
   "cell_type": "code",
   "execution_count": 10,
   "id": "c64a123e",
   "metadata": {},
   "outputs": [],
   "source": [
    "X_acidentes = main_df.drop('tipo', axis=1)\n",
    "y_acidentes = main_df['tipo']\n",
    "\n",
    "Xtrain, Xtest, ytrain, ytest = train_test_split(X_acidentes, y_acidentes, test_size=0.2, random_state=1)\n",
    "\n",
    "X_train, X_val, y_train, y_val = train_test_split(Xtrain, ytrain, test_size=0.25, random_state=1) # 0.25 x 0.8 = 0.2"
   ]
  },
  {
   "cell_type": "markdown",
   "id": "a99d47f0",
   "metadata": {},
   "source": [
    "## Predições"
   ]
  },
  {
   "cell_type": "markdown",
   "id": "fd502932",
   "metadata": {},
   "source": [
    "#### KNN"
   ]
  },
  {
   "cell_type": "code",
   "execution_count": 29,
   "id": "67be5b0a",
   "metadata": {},
   "outputs": [],
   "source": [
    "from sklearn.neighbors import KNeighborsClassifier\n",
    "from sklearn.model_selection import cross_val_score"
   ]
  },
  {
   "cell_type": "code",
   "execution_count": 30,
   "id": "3de44700",
   "metadata": {},
   "outputs": [
    {
     "name": "stdout",
     "output_type": "stream",
     "text": [
      "[0.517690492394683, 0.46062139796042284, 0.532369619030202, 0.5431228203845281, 0.5787946340593716, 0.5521873287632956, 0.5837489725949266, 0.5632339532001518, 0.5801528982567473, 0.5743546334771722, 0.5880066964873255, 0.5831989826157198, 0.5888874950804205, 0.5913829308089097, 0.6000440132603393, 0.5972179790398414, 0.6016218588627659, 0.6004842832511147, 0.6047046014081285, 0.6005576602359755, 0.6056589264958833, 0.6024294057359669, 0.6048148345788428, 0.6047414980020359, 0.6052551328552559, 0.6044112227744576, 0.6073103915314934, 0.6060260619501205, 0.6077508756849539, 0.6057324125824893, 0.6081179222414729, 0.6075308093832575, 0.6077876955035592, 0.6074940582583439, 0.6094390958862831, 0.6078610442027822, 0.6069068686248263, 0.6072738666916808, 0.60753072856715]\n"
     ]
    }
   ],
   "source": [
    "k_range = range(1, 40)\n",
    "\n",
    "k_scores = []\n",
    "\n",
    "for k in k_range:\n",
    "    knn = KNeighborsClassifier(n_neighbors=k)\n",
    "    scores = cross_val_score(knn, X_acidentes, y_acidentes, cv=3, scoring='accuracy')\n",
    "    k_scores.append(scores.mean())\n",
    "print(k_scores)"
   ]
  },
  {
   "cell_type": "code",
   "execution_count": 31,
   "id": "f452d58c",
   "metadata": {},
   "outputs": [
    {
     "data": {
      "text/plain": [
       "Text(0, 0.5, 'Cross-Validated Accuracy')"
      ]
     },
     "execution_count": 31,
     "metadata": {},
     "output_type": "execute_result"
    },
    {
     "data": {
      "image/png": "[encoded data removed]",
      "text/plain": [
       "<Figure size 432x288 with 1 Axes>"
      ]
     },
     "metadata": {
      "needs_background": "light"
     },
     "output_type": "display_data"
    }
   ],
   "source": [
    "plt.plot(k_range, k_scores)\n",
    "plt.xlabel('Value of K for KNN')\n",
    "plt.ylabel('Cross-Validated Accuracy')"
   ]
  },
  {
   "cell_type": "code",
   "execution_count": 32,
   "id": "efd286df",
   "metadata": {},
   "outputs": [],
   "source": [
    "model = KNeighborsClassifier(n_neighbors=35)"
   ]
  },
  {
   "cell_type": "code",
   "execution_count": 33,
   "id": "7feb39f7",
   "metadata": {},
   "outputs": [
    {
     "data": {
      "text/plain": [
       "(0.623956326268465, 0.5926605504587156)"
      ]
     },
     "execution_count": 33,
     "metadata": {},
     "output_type": "execute_result"
    }
   ],
   "source": [
    "#desempenho no treinamento e teste\n",
    "y1_model = model.fit(Xtrain, ytrain).predict(Xtrain)\n",
    "y2_model = model.fit(Xtrain, ytrain).predict(Xtest)\n",
    "accuracy_score(ytrain, y1_model), accuracy_score(ytest, y2_model)"
   ]
  },
  {
   "cell_type": "code",
   "execution_count": 34,
   "id": "1095a802",
   "metadata": {},
   "outputs": [
    {
     "data": {
      "image/png": "[encoded data removed]",
      "text/plain": [
       "<Figure size 432x288 with 1 Axes>"
      ]
     },
     "metadata": {
      "needs_background": "light"
     },
     "output_type": "display_data"
    }
   ],
   "source": [
    "from sklearn.metrics import confusion_matrix\n",
    "mat = confusion_matrix(ytest, y2_model)\n",
    "sns.heatmap(mat.T, square=True, annot=True, fmt='d', cbar=False)\n",
    "plt.xlabel('true label')\n",
    "plt.ylabel('predicted label');"
   ]
  },
  {
   "cell_type": "markdown",
   "id": "2cbfb3ca",
   "metadata": {},
   "source": [
    "## Decision Tree"
   ]
  },
  {
   "cell_type": "code",
   "execution_count": 22,
   "id": "761b43d6",
   "metadata": {},
   "outputs": [],
   "source": [
    "from sklearn.tree import DecisionTreeClassifier\n",
    "from sklearn.metrics import accuracy_score"
   ]
  },
  {
   "cell_type": "code",
   "execution_count": 23,
   "id": "8d326f8b",
   "metadata": {},
   "outputs": [],
   "source": [
    "clf_tree = DecisionTreeClassifier(random_state=0)"
   ]
  },
  {
   "cell_type": "code",
   "execution_count": 24,
   "id": "ab0f9817",
   "metadata": {},
   "outputs": [],
   "source": [
    "clf_tree.fit(Xtrain, ytrain)\n",
    "tree_pred = clf_tree.predict(Xtest)\n",
    "tree_pred_train = clf_tree.predict(Xtrain)"
   ]
  },
  {
   "cell_type": "code",
   "execution_count": 25,
   "id": "0db4edbd",
   "metadata": {},
   "outputs": [
    {
     "name": "stdout",
     "output_type": "stream",
     "text": [
      "ACC TRAINING:0.6936416184971098\n",
      "ACC TEST:0.6335779816513761\n"
     ]
    }
   ],
   "source": [
    "print(\"ACC TRAINING:\" + str(accuracy_score(ytrain, tree_pred_train)))\n",
    "print(\"ACC TEST:\" + str(accuracy_score(ytest, tree_pred)))"
   ]
  },
  {
   "cell_type": "markdown",
   "id": "7fddf60f",
   "metadata": {},
   "source": [
    "## Random Forest"
   ]
  },
  {
   "cell_type": "code",
   "execution_count": 35,
   "id": "2a2317b7",
   "metadata": {},
   "outputs": [],
   "source": [
    "from sklearn.ensemble import RandomForestClassifier\n",
    "from sklearn.model_selection import RandomizedSearchCV"
   ]
  },
  {
   "cell_type": "markdown",
   "id": "bfdf09ad",
   "metadata": {},
   "source": [
    "### Selecionando hyperparâmetros sobre o conjunto de validação com RandomizedSearch"
   ]
  },
  {
   "cell_type": "code",
   "execution_count": 36,
   "id": "2ac56662",
   "metadata": {},
   "outputs": [
    {
     "name": "stdout",
     "output_type": "stream",
     "text": [
      "Melhor número de estimadores: 1210\n",
      "Desempenho do melhor modelo: 0.609\n"
     ]
    }
   ],
   "source": [
    "random_search_cv = RandomizedSearchCV(estimator = RandomForestClassifier(),\n",
    "                              param_distributions = {'n_estimators':range(10,2000,200)},cv = 3,n_iter = 10)\n",
    "\n",
    "random_search_cv.fit(X_val,y_val)\n",
    "\n",
    "#Vamos ver informações relevantes:\n",
    "print('Melhor número de estimadores: {}'.format(random_search_cv.best_params_['n_estimators']))\n",
    "print('Desempenho do melhor modelo: {}'.format(round(random_search_cv.best_score_,3)))"
   ]
  },
  {
   "cell_type": "code",
   "execution_count": 37,
   "id": "23a4051a",
   "metadata": {},
   "outputs": [
    {
     "name": "stdout",
     "output_type": "stream",
     "text": [
      "Melhor max_depth: 15\n",
      "Desempenho do melhor modelo: 0.628\n"
     ]
    }
   ],
   "source": [
    "random_search_cv = RandomizedSearchCV(estimator = RandomForestClassifier(n_estimators = random_search_cv.best_params_['n_estimators']),\n",
    "                              param_distributions = {'max_depth': [5, 8, 15, 25, 30]},cv = 3, n_iter = 5)\n",
    "\n",
    "random_search_cv.fit(X_val,y_val)\n",
    "\n",
    "#Vamos ver informações relevantes:\n",
    "print('Melhor max_depth: {}'.format(random_search_cv.best_params_['max_depth']))\n",
    "print('Desempenho do melhor modelo: {}'.format(round(random_search_cv.best_score_,3)))"
   ]
  },
  {
   "cell_type": "markdown",
   "id": "ca83fac1",
   "metadata": {},
   "source": [
    "### Treinando o modelo com os valores encontrados para os hyperparâmetros e realizando predição"
   ]
  },
  {
   "cell_type": "code",
   "execution_count": null,
   "id": "25daf7ad",
   "metadata": {},
   "outputs": [],
   "source": []
  },
  {
   "cell_type": "code",
   "execution_count": 38,
   "id": "3ac0ea2e",
   "metadata": {},
   "outputs": [],
   "source": [
    "model = RandomForestClassifier(random_state=0, n_estimators=1210, max_depth=15)\n",
    "model.fit(Xtrain, ytrain)\n",
    "ypred = model.predict(Xtest)\n",
    "ypred_train = model.predict(Xtrain)"
   ]
  },
  {
   "cell_type": "code",
   "execution_count": 39,
   "id": "5069ea00",
   "metadata": {},
   "outputs": [
    {
     "name": "stdout",
     "output_type": "stream",
     "text": [
      "ACC TRAINING:0.6479493531516652\n",
      "ACC TEST:0.6240366972477064\n"
     ]
    }
   ],
   "source": [
    "print(\"ACC TRAINING:\" + str(accuracy_score(ytrain, ypred_train)))\n",
    "print(\"ACC TEST:\" + str(accuracy_score(ytest, ypred)))"
   ]
  },
  {
   "cell_type": "code",
   "execution_count": 40,
   "id": "aa00967d",
   "metadata": {},
   "outputs": [
    {
     "data": {
      "image/png": "[encoded data removed]",
      "text/plain": [
       "<Figure size 432x288 with 1 Axes>"
      ]
     },
     "metadata": {
      "needs_background": "light"
     },
     "output_type": "display_data"
    }
   ],
   "source": [
    "from sklearn.metrics import confusion_matrix\n",
    "mat = confusion_matrix(ytest, ypred)\n",
    "sns.heatmap(mat.T, square=True, annot=True, fmt='d', cbar=False)\n",
    "plt.xlabel('true label')\n",
    "plt.ylabel('predicted label');"
   ]
  },
  {
   "cell_type": "markdown",
   "id": "69661c66",
   "metadata": {},
   "source": [
    "## Gradient Boosting"
   ]
  },
  {
   "cell_type": "code",
   "execution_count": 41,
   "id": "5185b91a",
   "metadata": {},
   "outputs": [],
   "source": [
    "from sklearn.ensemble import GradientBoostingClassifier"
   ]
  },
  {
   "cell_type": "markdown",
   "id": "a32f8da7",
   "metadata": {},
   "source": [
    "### Selecionando hyperparâmetros sobre o conjunto de validação com RandomizedSearch"
   ]
  },
  {
   "cell_type": "code",
   "execution_count": 42,
   "id": "fd9ee548",
   "metadata": {},
   "outputs": [
    {
     "name": "stdout",
     "output_type": "stream",
     "text": [
      "Melhor número de estimadores: 25\n",
      "Desempenho do melhor modelo: 0.619\n"
     ]
    }
   ],
   "source": [
    "from sklearn.model_selection import RandomizedSearchCV\n",
    "\n",
    "random_search_cv = RandomizedSearchCV(estimator = GradientBoostingClassifier(random_state = 0),\n",
    "                              param_distributions = {'n_estimators':range(10,100,5)},cv = 3,n_iter = 10)\n",
    "\n",
    "random_search_cv.fit(X_val,y_val)\n",
    "\n",
    "#Vamos ver informações relevantes:\n",
    "print('Melhor número de estimadores: {}'.format(random_search_cv.best_params_['n_estimators']))\n",
    "print('Desempenho do melhor modelo: {}'.format(round(random_search_cv.best_score_,3)))"
   ]
  },
  {
   "cell_type": "code",
   "execution_count": 43,
   "id": "a0344dd7",
   "metadata": {},
   "outputs": [
    {
     "name": "stdout",
     "output_type": "stream",
     "text": [
      "Max depth: 15\n",
      "min_samples_split: 400\n",
      "Desempenho do melhor modelo: 0.624\n"
     ]
    }
   ],
   "source": [
    "random_search_cv = RandomizedSearchCV(estimator = GradientBoostingClassifier(random_state = 0, n_estimators=random_search_cv.best_params_['n_estimators']),\n",
    "                            param_distributions = {'max_depth':range(5,16,2), 'min_samples_split':range(200,1001,200)},\n",
    "                            cv = 3,n_iter = 10)\n",
    "\n",
    "random_search_cv.fit(X_val,y_val)\n",
    "\n",
    "#Vamos ver informações relevantes:\n",
    "print('Max depth: {}'.format(random_search_cv.best_params_['max_depth']))\n",
    "print('min_samples_split: {}'.format(random_search_cv.best_params_['min_samples_split']))\n",
    "print('Desempenho do melhor modelo: {}'.format(round(random_search_cv.best_score_,3)))"
   ]
  },
  {
   "cell_type": "markdown",
   "id": "0d4e186b",
   "metadata": {},
   "source": [
    "### Treinando o modelo com os valores encontrados para os hyperparâmetros e realizando predição"
   ]
  },
  {
   "cell_type": "code",
   "execution_count": 44,
   "id": "58deaaa3",
   "metadata": {},
   "outputs": [
    {
     "data": {
      "text/plain": [
       "GradientBoostingClassifier(max_depth=15, n_estimators=25, random_state=0)"
      ]
     },
     "execution_count": 44,
     "metadata": {},
     "output_type": "execute_result"
    }
   ],
   "source": [
    "modelGB = GradientBoostingClassifier(random_state=0, n_estimators=25, max_depth=15)\n",
    "modelGB.fit(Xtrain, ytrain)"
   ]
  },
  {
   "cell_type": "code",
   "execution_count": 45,
   "id": "5e906ddb",
   "metadata": {},
   "outputs": [
    {
     "name": "stdout",
     "output_type": "stream",
     "text": [
      "ACC TRAINING:0.6885035324341683\n",
      "ACC TEST:0.6352293577981651\n"
     ]
    }
   ],
   "source": [
    "ypred = modelGB.predict(Xtest)\n",
    "ypred_train = modelGB.predict(Xtrain)\n",
    "print(\"ACC TRAINING:\" + str(accuracy_score(ytrain, ypred_train)))\n",
    "print(\"ACC TEST:\" + str(accuracy_score(ytest, ypred)))"
   ]
  },
  {
   "cell_type": "code",
   "execution_count": 46,
   "id": "993463e3",
   "metadata": {},
   "outputs": [
    {
     "data": {
      "image/png": "[encoded data removed]",
      "text/plain": [
       "<Figure size 432x288 with 1 Axes>"
      ]
     },
     "metadata": {
      "needs_background": "light"
     },
     "output_type": "display_data"
    }
   ],
   "source": [
    "from sklearn.metrics import confusion_matrix\n",
    "mat = confusion_matrix(ytest, ypred)\n",
    "sns.heatmap(mat.T, square=True, annot=True, fmt='d', cbar=False)\n",
    "plt.xlabel('true label')\n",
    "plt.ylabel('predicted label');"
   ]
  },
  {
   "cell_type": "code",
   "execution_count": null,
   "id": "aabd3b27",
   "metadata": {},
   "outputs": [],
   "source": []
  },
  {
   "cell_type": "markdown",
   "id": "61b47e32",
   "metadata": {},
   "source": [
    "# TODO: \n",
    "   ### - ADICIONAR O MLFLOW"
   ]
  },
  {
   "cell_type": "code",
   "execution_count": null,
   "id": "7fea456c",
   "metadata": {},
   "outputs": [],
   "source": []
  }
 ],
 "metadata": {
  "kernelspec": {
   "display_name": "Python 3",
   "language": "python",
   "name": "python3"
  },
  "language_info": {
   "codemirror_mode": {
    "name": "ipython",
    "version": 3
   },
   "file_extension": ".py",
   "mimetype": "text/x-python",
   "name": "python",
   "nbconvert_exporter": "python",
   "pygments_lexer": "ipython3",
   "version": "3.8.8"
  }
 },
 "nbformat": 4,
 "nbformat_minor": 5
}
