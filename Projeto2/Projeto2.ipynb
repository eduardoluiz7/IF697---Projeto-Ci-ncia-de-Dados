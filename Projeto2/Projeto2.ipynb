{
 "cells": [
  {
   "cell_type": "markdown",
   "id": "651aab05",
   "metadata": {},
   "source": [
    "## Projeto 2: Classificando acidentes com e sem vítimas"
   ]
  },
  {
   "cell_type": "markdown",
   "id": "bcc58602",
   "metadata": {},
   "source": [
    "Para esse projeto, com o intuito de ter mais dados para o treinamento dos modelos, foi necessário adicionar bases dos anos de 2017 à 2019 ao conjunto do ano de 2020 que foi utilizado no projeto 1. Dessa forma, o notebook inicia carregando a base com os dados dos 4 anos agrupados e processados pelo código do projeto 1"
   ]
  },
  {
   "cell_type": "code",
   "execution_count": 315,
   "id": "3f431323",
   "metadata": {},
   "outputs": [],
   "source": [
    "import pandas as pd\n",
    "import numpy as np\n",
    "from sklearn.model_selection import train_test_split\n",
    "import seaborn as sns\n",
    "import matplotlib.pyplot as plt"
   ]
  },
  {
   "cell_type": "code",
   "execution_count": 316,
   "id": "fd15358a",
   "metadata": {},
   "outputs": [],
   "source": [
    "main_df = pd.read_csv('acidentes_group.csv', index_col=0)"
   ]
  },
  {
   "cell_type": "markdown",
   "id": "245f501e",
   "metadata": {},
   "source": [
    "Ao comparar a distruibuição dos valores nas colunas 'tipo' e 'natureza_acidente' percebe-se que a base está bastante desbalanceada, além disso a coluna tipo possui 8 valores possíveis e está mais desbalanceada do que 'natureza_acidente' que possui apensa 3 possíveis valores. Dessa forma, escolhi 'natureza_acidente' como a coluna a ser predita."
   ]
  },
  {
   "cell_type": "code",
   "execution_count": 317,
   "id": "736e4060",
   "metadata": {},
   "outputs": [
    {
     "data": {
      "text/plain": [
       "COLISÃO              27473\n",
       "ABALROAMENTO          8224\n",
       "CHOQUE                1485\n",
       "ATROPELAMENTO          918\n",
       "ENGAVETAMENTO          397\n",
       "ACID. DE PERCURSO      149\n",
       "TOMBAMENTO              98\n",
       "CAPOTAMENTO             82\n",
       "Name: tipo, dtype: int64"
      ]
     },
     "execution_count": 317,
     "metadata": {},
     "output_type": "execute_result"
    }
   ],
   "source": [
    "main_df['tipo'].value_counts()"
   ]
  },
  {
   "cell_type": "code",
   "execution_count": 318,
   "id": "f94082fd",
   "metadata": {},
   "outputs": [
    {
     "data": {
      "text/plain": [
       "SEM VÍTIMA      30552\n",
       "COM VÍTIMA       8167\n",
       "VÍTIMA FATAL      107\n",
       "Name: natureza_acidente, dtype: int64"
      ]
     },
     "execution_count": 318,
     "metadata": {},
     "output_type": "execute_result"
    }
   ],
   "source": [
    "main_df['natureza_acidente'].value_counts()"
   ]
  },
  {
   "cell_type": "markdown",
   "id": "8ca92208",
   "metadata": {},
   "source": [
    "#### Usando OneHot Encoding para converter os dados categóricos"
   ]
  },
  {
   "cell_type": "code",
   "execution_count": 319,
   "id": "53d3dd93",
   "metadata": {},
   "outputs": [],
   "source": [
    "main_df['bairro'] = main_df['bairro'].astype('category')\n",
    "main_df['bairro'] = main_df['bairro'].cat.codes\n",
    "main_df['tipo'] = main_df['tipo'].astype('category')\n",
    "main_df['tipo'] = main_df['tipo'].cat.codes\n",
    "main_df['natureza_acidente'] = main_df['natureza_acidente'].astype('category')"
   ]
  },
  {
   "cell_type": "code",
   "execution_count": 320,
   "id": "fb23e8bd",
   "metadata": {},
   "outputs": [],
   "source": [
    "dfDummies = pd.get_dummies(main_df['bairro'], prefix = 'bairro')\n",
    "main_df = pd.concat([main_df, dfDummies], axis=1)\n",
    "dfDummies2 = pd.get_dummies(main_df['tipo'], prefix = 'tipo')\n",
    "main_df = pd.concat([main_df, dfDummies2], axis=1)"
   ]
  },
  {
   "cell_type": "code",
   "execution_count": 321,
   "id": "d4610ada",
   "metadata": {},
   "outputs": [
    {
     "data": {
      "text/plain": [
       "natureza_acidente    0\n",
       "bairro               0\n",
       "tipo                 0\n",
       "auto                 0\n",
       "moto                 0\n",
       "                    ..\n",
       "tipo_3               0\n",
       "tipo_4               0\n",
       "tipo_5               0\n",
       "tipo_6               0\n",
       "tipo_7               0\n",
       "Length: 116, dtype: int64"
      ]
     },
     "execution_count": 321,
     "metadata": {},
     "output_type": "execute_result"
    }
   ],
   "source": [
    "main_df.isna().sum()"
   ]
  },
  {
   "cell_type": "code",
   "execution_count": 322,
   "id": "3ed8ee5d",
   "metadata": {},
   "outputs": [],
   "source": [
    "# Embaralhando linhas do dataset\n",
    "main_df = main_df.sample(frac=1)"
   ]
  },
  {
   "cell_type": "markdown",
   "id": "f834624e",
   "metadata": {},
   "source": [
    "### Dividindo dataset em treino, teste e validação"
   ]
  },
  {
   "cell_type": "code",
   "execution_count": 323,
   "id": "c64a123e",
   "metadata": {},
   "outputs": [],
   "source": [
    "X_acidentes = main_df.drop('natureza_acidente', axis=1)\n",
    "y_acidentes = main_df['natureza_acidente']\n",
    "\n",
    "Xtrain, Xtest, ytrain, ytest = train_test_split(X_acidentes, y_acidentes, test_size=0.2, random_state=1)\n",
    "\n",
    "X_train, X_val, y_train, y_val = train_test_split(Xtrain, ytrain, test_size=0.25, random_state=1) # 0.25 x 0.8 = 0.2"
   ]
  },
  {
   "cell_type": "markdown",
   "id": "a99d47f0",
   "metadata": {},
   "source": [
    "## Predições\n",
    "   Nas predições os modelos que utilizei foram: KNN, Árvore de Decisão, Random Forest e Gradient Boosting. \n",
    "   \n",
    "   - Na seleção de hyperparamêtros para o KNN segui o exemplo usado em aula (iteração em uma lista de valores para k usando cross validation para encontrar o melhor valor do número de vizinhos). \n",
    "   - Nos demais modelos, utilizei RandomizedSearch com cross validation, o desejo era utilizar GridSearch para ter mais chances de encontrar um melhor global mas, por questões de limitação de hardware e tempo, não foi possível uma vez que o método é mais custoso. Para tentar diminuir um pouco a probabilidade de encontrar apenas um melhores locais, executei o RandomizedSearch uma vez para cada parâmetro"
   ]
  },
  {
   "cell_type": "markdown",
   "id": "fd502932",
   "metadata": {},
   "source": [
    "### KNN"
   ]
  },
  {
   "cell_type": "code",
   "execution_count": 324,
   "id": "67be5b0a",
   "metadata": {},
   "outputs": [],
   "source": [
    "from sklearn.neighbors import KNeighborsClassifier\n",
    "from sklearn.model_selection import cross_val_score\n",
    "from sklearn.metrics import accuracy_score"
   ]
  },
  {
   "cell_type": "markdown",
   "id": "66f1bdea",
   "metadata": {},
   "source": [
    "#### Selecionando hyperparâmetro para o número de vizinhos sobre o conjunto de validação"
   ]
  },
  {
   "cell_type": "code",
   "execution_count": 325,
   "id": "05cf6059",
   "metadata": {},
   "outputs": [
    {
     "name": "stdout",
     "output_type": "stream",
     "text": [
      "[0.8221506761107534, 0.8073406310367032, 0.8341274951706374, 0.836316806181584, 0.8365743721828718, 0.837990985189955, 0.8351577591757888, 0.8339987121699937, 0.8315518351577591, 0.8312942691564713, 0.8302640051513199, 0.8311654861558274, 0.8248551191242756, 0.8256278171281389, 0.8226658081133291, 0.8240824211204121, 0.820991629104958, 0.8209916291049583, 0.8197037990985189, 0.8202189311010946, 0.8169993560849969, 0.8171281390856407, 0.8150676110753381, 0.8168705730843528]\n"
     ]
    }
   ],
   "source": [
    "k_range = range(1, 25)\n",
    "\n",
    "k_scores = []\n",
    "\n",
    "for k in k_range:\n",
    "    knn = KNeighborsClassifier(n_neighbors=k)\n",
    "    scores = cross_val_score(knn, X_val, y_val, cv=5, scoring='accuracy')\n",
    "    k_scores.append(scores.mean())\n",
    "print(k_scores)"
   ]
  },
  {
   "cell_type": "code",
   "execution_count": 326,
   "id": "86fbc540",
   "metadata": {},
   "outputs": [
    {
     "data": {
      "text/plain": [
       "Text(0, 0.5, 'Cross-Validated Accuracy')"
      ]
     },
     "execution_count": 326,
     "metadata": {},
     "output_type": "execute_result"
    },
    {
     "data": {
      "image/png": "[encoded data removed]",
      "text/plain": [
       "<Figure size 432x288 with 1 Axes>"
      ]
     },
     "metadata": {
      "needs_background": "light"
     },
     "output_type": "display_data"
    }
   ],
   "source": [
    "plt.plot(k_range, k_scores)\n",
    "plt.xlabel('Value of K for KNN')\n",
    "plt.ylabel('Cross-Validated Accuracy')"
   ]
  },
  {
   "cell_type": "markdown",
   "id": "cd0d4dc2",
   "metadata": {},
   "source": [
    "#### Treinando o modelo com o valor encontrado para K e realizando predição"
   ]
  },
  {
   "cell_type": "code",
   "execution_count": 351,
   "id": "17781729",
   "metadata": {},
   "outputs": [],
   "source": [
    "model = KNeighborsClassifier(n_neighbors=6)"
   ]
  },
  {
   "cell_type": "code",
   "execution_count": 354,
   "id": "7feb39f7",
   "metadata": {},
   "outputs": [
    {
     "data": {
      "text/plain": [
       "(0.8672247263361237, 0.8507597218645377)"
      ]
     },
     "execution_count": 354,
     "metadata": {},
     "output_type": "execute_result"
    }
   ],
   "source": [
    "#desempenho no treinamento e teste\n",
    "y_pred_train = model.fit(Xtrain, ytrain).predict(Xtrain)\n",
    "y_pred = model.fit(Xtrain, ytrain).predict(Xtest)\n",
    "accuracy_score(ytrain, y_pred_train), accuracy_score(ytest, y_pred)"
   ]
  },
  {
   "cell_type": "code",
   "execution_count": 355,
   "id": "1095a802",
   "metadata": {},
   "outputs": [
    {
     "data": {
      "image/png": "[encoded data removed]",
      "text/plain": [
       "<Figure size 432x288 with 1 Axes>"
      ]
     },
     "metadata": {
      "needs_background": "light"
     },
     "output_type": "display_data"
    }
   ],
   "source": [
    "from sklearn.metrics import confusion_matrix\n",
    "mat = confusion_matrix(ytest, y2_model)\n",
    "sns.heatmap(mat.T, square=True, annot=True, fmt='d', cbar=False)\n",
    "plt.xlabel('true label')\n",
    "plt.ylabel('predicted label');"
   ]
  },
  {
   "cell_type": "markdown",
   "id": "6a94ccab",
   "metadata": {},
   "source": [
    "### Decision Tree"
   ]
  },
  {
   "cell_type": "code",
   "execution_count": 330,
   "id": "761b43d6",
   "metadata": {},
   "outputs": [],
   "source": [
    "from sklearn.tree import DecisionTreeClassifier\n",
    "from sklearn.model_selection import RandomizedSearchCV"
   ]
  },
  {
   "cell_type": "markdown",
   "id": "4e40889b",
   "metadata": {},
   "source": [
    "#### Selecionando hyperparâmetros sobre o conjunto de validação com RandomizedSearch"
   ]
  },
  {
   "cell_type": "code",
   "execution_count": 331,
   "id": "2beaea8e",
   "metadata": {},
   "outputs": [
    {
     "name": "stdout",
     "output_type": "stream",
     "text": [
      "Melhor criterion: entropy\n",
      "Desempenho do melhor modelo: 0.848\n"
     ]
    }
   ],
   "source": [
    "random_search_cv = RandomizedSearchCV(estimator = DecisionTreeClassifier(),\n",
    "                              param_distributions = {'criterion':['gini', 'entropy']},cv = 5, n_iter=2)\n",
    "\n",
    "random_search_cv.fit(X_val,y_val)\n",
    "\n",
    "best_criterion = random_search_cv.best_params_['criterion']\n",
    "#Vamos ver informações relevantes:\n",
    "print('Melhor criterion: {}'.format(best_criterion))\n",
    "print('Desempenho do melhor modelo: {}'.format(round(random_search_cv.best_score_,3)))"
   ]
  },
  {
   "cell_type": "code",
   "execution_count": 332,
   "id": "401e3896",
   "metadata": {},
   "outputs": [
    {
     "name": "stdout",
     "output_type": "stream",
     "text": [
      "Melhor splitter: random\n",
      "Desempenho do melhor modelo: 0.848\n"
     ]
    }
   ],
   "source": [
    "random_search_cv = RandomizedSearchCV(estimator = DecisionTreeClassifier(criterion=random_search_cv.best_params_['criterion']),\n",
    "                              param_distributions = {'splitter':['best', 'random']},cv = 5, n_iter=2)\n",
    "\n",
    "random_search_cv.fit(X_val,y_val)\n",
    "\n",
    "best_splitter = random_search_cv.best_params_['splitter']\n",
    "#Vamos ver informações relevantes:\n",
    "print('Melhor splitter: {}'.format(best_splitter))\n",
    "print('Desempenho do melhor modelo: {}'.format(round(random_search_cv.best_score_,3)))"
   ]
  },
  {
   "cell_type": "code",
   "execution_count": 333,
   "id": "9f0021dd",
   "metadata": {},
   "outputs": [
    {
     "name": "stdout",
     "output_type": "stream",
     "text": [
      "Melhor max_depth: 8\n",
      "Desempenho do melhor modelo: 0.859\n"
     ]
    }
   ],
   "source": [
    "random_search_cv = RandomizedSearchCV(estimator = DecisionTreeClassifier(criterion= best_criterion, \n",
    "                                                                         splitter=best_splitter),\n",
    "                              param_distributions = {'max_depth': [5, 8, 15, 25, 30]},cv = 5, n_iter=5)\n",
    "\n",
    "random_search_cv.fit(X_val,y_val)\n",
    "\n",
    "tree_max_depth = random_search_cv.best_params_['max_depth']\n",
    "#Vamos ver informações relevantes:\n",
    "print('Melhor max_depth: {}'.format(tree_max_depth))\n",
    "print('Desempenho do melhor modelo: {}'.format(round(random_search_cv.best_score_,3)))"
   ]
  },
  {
   "cell_type": "markdown",
   "id": "e69311ac",
   "metadata": {},
   "source": [
    "#### Treinando o modelo com os valores encontrados para os hyperparâmetros e realizando predição"
   ]
  },
  {
   "cell_type": "code",
   "execution_count": 334,
   "id": "d00f36ad",
   "metadata": {},
   "outputs": [],
   "source": [
    "clf_tree = DecisionTreeClassifier(criterion=best_criterion, splitter=best_splitter, max_depth=tree_max_depth)"
   ]
  },
  {
   "cell_type": "code",
   "execution_count": 335,
   "id": "a14e6be8",
   "metadata": {},
   "outputs": [
    {
     "data": {
      "text/plain": [
       "DecisionTreeClassifier(criterion='entropy', max_depth=8, splitter='random')"
      ]
     },
     "execution_count": 335,
     "metadata": {},
     "output_type": "execute_result"
    }
   ],
   "source": [
    "clf_tree.fit(Xtrain, ytrain)"
   ]
  },
  {
   "cell_type": "code",
   "execution_count": 336,
   "id": "5adfaadb",
   "metadata": {},
   "outputs": [],
   "source": [
    "tree_pred = clf_tree.predict(Xtest)\n",
    "tree_pred_train = clf_tree.predict(Xtrain)"
   ]
  },
  {
   "cell_type": "code",
   "execution_count": 337,
   "id": "7662dc1d",
   "metadata": {},
   "outputs": [
    {
     "name": "stdout",
     "output_type": "stream",
     "text": [
      "ACC TRAINING:0.8686091435930458\n",
      "ACC TEST:0.8645377285603915\n"
     ]
    }
   ],
   "source": [
    "print(\"ACC TRAINING:\" + str(accuracy_score(ytrain, tree_pred_train)))\n",
    "print(\"ACC TEST:\" + str(accuracy_score(ytest, tree_pred)))"
   ]
  },
  {
   "cell_type": "code",
   "execution_count": 338,
   "id": "6e3b3d87",
   "metadata": {},
   "outputs": [
    {
     "data": {
      "image/png": "[encoded data removed]",
      "text/plain": [
       "<Figure size 432x288 with 1 Axes>"
      ]
     },
     "metadata": {
      "needs_background": "light"
     },
     "output_type": "display_data"
    }
   ],
   "source": [
    "mat = confusion_matrix(ytest, tree_pred)\n",
    "sns.heatmap(mat.T, square=True, annot=True, fmt='d', cbar=False)\n",
    "plt.xlabel('true label')\n",
    "plt.ylabel('predicted label');"
   ]
  },
  {
   "cell_type": "markdown",
   "id": "7fddf60f",
   "metadata": {},
   "source": [
    "### Random Forest"
   ]
  },
  {
   "cell_type": "code",
   "execution_count": 339,
   "id": "2a2317b7",
   "metadata": {},
   "outputs": [],
   "source": [
    "from sklearn.ensemble import RandomForestClassifier"
   ]
  },
  {
   "cell_type": "markdown",
   "id": "bfdf09ad",
   "metadata": {},
   "source": [
    "#### Selecionando hyperparâmetros sobre o conjunto de validação com RandomizedSearch"
   ]
  },
  {
   "cell_type": "code",
   "execution_count": 340,
   "id": "2ac56662",
   "metadata": {},
   "outputs": [
    {
     "name": "stdout",
     "output_type": "stream",
     "text": [
      "Melhor número de estimadores: 801\n",
      "Desempenho do melhor modelo: 0.857\n"
     ]
    }
   ],
   "source": [
    "random_search_cv = RandomizedSearchCV(estimator = RandomForestClassifier(),\n",
    "                              param_distributions = {'n_estimators':range(1,1000,100)},cv = 5,n_iter = 10)\n",
    "\n",
    "random_search_cv.fit(X_val,y_val)\n",
    "\n",
    "rf_estimators = random_search_cv.best_params_['n_estimators']\n",
    "\n",
    "#Vamos ver informações relevantes:\n",
    "print('Melhor número de estimadores: {}'.format(rf_estimators))\n",
    "print('Desempenho do melhor modelo: {}'.format(round(random_search_cv.best_score_,3)))"
   ]
  },
  {
   "cell_type": "code",
   "execution_count": 341,
   "id": "23a4051a",
   "metadata": {},
   "outputs": [
    {
     "name": "stdout",
     "output_type": "stream",
     "text": [
      "Melhor max_depth: 15\n",
      "Desempenho do melhor modelo: 0.859\n"
     ]
    }
   ],
   "source": [
    "random_search_cv = RandomizedSearchCV(estimator = RandomForestClassifier(n_estimators = rf_estimators),\n",
    "                              param_distributions = {'max_depth': [5, 8, 15, 25, 30]},cv = 5, n_iter = 5)\n",
    "\n",
    "random_search_cv.fit(X_val,y_val)\n",
    "\n",
    "rf_max_depth = random_search_cv.best_params_['max_depth']\n",
    "\n",
    "#Vamos ver informações relevantes:\n",
    "print('Melhor max_depth: {}'.format(rf_max_depth))\n",
    "print('Desempenho do melhor modelo: {}'.format(round(random_search_cv.best_score_,3)))"
   ]
  },
  {
   "cell_type": "markdown",
   "id": "f96b9df2",
   "metadata": {},
   "source": [
    "#### Treinando o modelo com os valores encontrados para os hyperparâmetros e realizando predição"
   ]
  },
  {
   "cell_type": "code",
   "execution_count": 342,
   "id": "3ac0ea2e",
   "metadata": {},
   "outputs": [],
   "source": [
    "model = RandomForestClassifier(n_estimators=rf_estimators, max_depth=rf_max_depth)\n",
    "model.fit(Xtrain, ytrain)\n",
    "ypred = model.predict(Xtest)\n",
    "ypred_train = model.predict(Xtrain)"
   ]
  },
  {
   "cell_type": "code",
   "execution_count": 343,
   "id": "5069ea00",
   "metadata": {},
   "outputs": [
    {
     "name": "stdout",
     "output_type": "stream",
     "text": [
      "ACC TRAINING:0.8768190598840953\n",
      "ACC TEST:0.8629925315477723\n"
     ]
    }
   ],
   "source": [
    "print(\"ACC TRAINING:\" + str(accuracy_score(ytrain, ypred_train)))\n",
    "print(\"ACC TEST:\" + str(accuracy_score(ytest, ypred)))"
   ]
  },
  {
   "cell_type": "code",
   "execution_count": 344,
   "id": "aa00967d",
   "metadata": {},
   "outputs": [
    {
     "data": {
      "image/png": "[encoded data removed]",
      "text/plain": [
       "<Figure size 432x288 with 1 Axes>"
      ]
     },
     "metadata": {
      "needs_background": "light"
     },
     "output_type": "display_data"
    }
   ],
   "source": [
    "from sklearn.metrics import confusion_matrix\n",
    "mat = confusion_matrix(ytest, ypred)\n",
    "sns.heatmap(mat.T, square=True, annot=True, fmt='d', cbar=False)\n",
    "plt.xlabel('true label')\n",
    "plt.ylabel('predicted label');"
   ]
  },
  {
   "cell_type": "markdown",
   "id": "69661c66",
   "metadata": {},
   "source": [
    "### Gradient Boosting"
   ]
  },
  {
   "cell_type": "code",
   "execution_count": 345,
   "id": "5185b91a",
   "metadata": {},
   "outputs": [],
   "source": [
    "from sklearn.ensemble import GradientBoostingClassifier"
   ]
  },
  {
   "cell_type": "markdown",
   "id": "a32f8da7",
   "metadata": {},
   "source": [
    "#### Selecionando hyperparâmetros sobre o conjunto de validação com RandomizedSearch"
   ]
  },
  {
   "cell_type": "code",
   "execution_count": 346,
   "id": "fd9ee548",
   "metadata": {},
   "outputs": [
    {
     "name": "stdout",
     "output_type": "stream",
     "text": [
      "Melhor número de estimadores: 30\n",
      "Desempenho do melhor modelo: 0.862\n"
     ]
    }
   ],
   "source": [
    "from sklearn.model_selection import RandomizedSearchCV\n",
    "\n",
    "random_search_cv = RandomizedSearchCV(estimator = GradientBoostingClassifier(),\n",
    "                              param_distributions = {'n_estimators':range(10,100,5)},cv = 3,n_iter = 10)\n",
    "\n",
    "random_search_cv.fit(X_val,y_val)\n",
    "\n",
    "gb_estimators = random_search_cv.best_params_['n_estimators']\n",
    "\n",
    "#Vamos ver informações relevantes:\n",
    "print('Melhor número de estimadores: {}'.format(gb_estimators))\n",
    "print('Desempenho do melhor modelo: {}'.format(round(random_search_cv.best_score_,3)))"
   ]
  },
  {
   "cell_type": "code",
   "execution_count": 347,
   "id": "a0344dd7",
   "metadata": {},
   "outputs": [
    {
     "name": "stdout",
     "output_type": "stream",
     "text": [
      "Max depth: 5\n",
      "Desempenho do melhor modelo: 0.858\n"
     ]
    }
   ],
   "source": [
    "random_search_cv = RandomizedSearchCV(estimator = GradientBoostingClassifier(n_estimators=gb_estimators),\n",
    "                            param_distributions = {'max_depth':range(5,16,2)},\n",
    "                            cv = 3,n_iter = 6)\n",
    "\n",
    "random_search_cv.fit(X_val,y_val)\n",
    "\n",
    "gb_max_depth = random_search_cv.best_params_['max_depth']\n",
    "#Vamos ver informações relevantes:\n",
    "print('Max depth: {}'.format(gb_max_depth))\n",
    "print('Desempenho do melhor modelo: {}'.format(round(random_search_cv.best_score_,3)))"
   ]
  },
  {
   "cell_type": "markdown",
   "id": "6352f186",
   "metadata": {},
   "source": [
    "#### Treinando o modelo com os valores encontrados para os hyperparâmetros e realizando predição"
   ]
  },
  {
   "cell_type": "code",
   "execution_count": 348,
   "id": "58deaaa3",
   "metadata": {},
   "outputs": [
    {
     "data": {
      "text/plain": [
       "GradientBoostingClassifier(max_depth=5, n_estimators=30)"
      ]
     },
     "execution_count": 348,
     "metadata": {},
     "output_type": "execute_result"
    }
   ],
   "source": [
    "modelGB = GradientBoostingClassifier(n_estimators=gb_estimators, max_depth=gb_max_depth)\n",
    "modelGB.fit(Xtrain, ytrain)"
   ]
  },
  {
   "cell_type": "code",
   "execution_count": 349,
   "id": "5e906ddb",
   "metadata": {},
   "outputs": [
    {
     "name": "stdout",
     "output_type": "stream",
     "text": [
      "ACC TRAINING:0.8718931101094656\n",
      "ACC TEST:0.862348699459181\n"
     ]
    }
   ],
   "source": [
    "ypred = modelGB.predict(Xtest)\n",
    "ypred_train = modelGB.predict(Xtrain)\n",
    "print(\"ACC TRAINING:\" + str(accuracy_score(ytrain, ypred_train)))\n",
    "print(\"ACC TEST:\" + str(accuracy_score(ytest, ypred)))"
   ]
  },
  {
   "cell_type": "code",
   "execution_count": 350,
   "id": "993463e3",
   "metadata": {},
   "outputs": [
    {
     "data": {
      "image/png": "[encoded data removed]",
      "text/plain": [
       "<Figure size 432x288 with 1 Axes>"
      ]
     },
     "metadata": {
      "needs_background": "light"
     },
     "output_type": "display_data"
    }
   ],
   "source": [
    "from sklearn.metrics import confusion_matrix\n",
    "mat = confusion_matrix(ytest, ypred)\n",
    "sns.heatmap(mat.T, square=True, annot=True, fmt='d', cbar=False)\n",
    "plt.xlabel('true label')\n",
    "plt.ylabel('predicted label');"
   ]
  },
  {
   "cell_type": "code",
   "execution_count": null,
   "id": "aabd3b27",
   "metadata": {},
   "outputs": [],
   "source": []
  }
 ],
 "metadata": {
  "kernelspec": {
   "display_name": "Python 3",
   "language": "python",
   "name": "python3"
  },
  "language_info": {
   "codemirror_mode": {
    "name": "ipython",
    "version": 3
   },
   "file_extension": ".py",
   "mimetype": "text/x-python",
   "name": "python",
   "nbconvert_exporter": "python",
   "pygments_lexer": "ipython3",
   "version": "3.8.8"
  }
 },
 "nbformat": 4,
 "nbformat_minor": 5
}
